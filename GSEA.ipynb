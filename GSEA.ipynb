{
 "cells": [
  {
   "cell_type": "markdown",
   "metadata": {},
   "source": [
    "## Gene Set Enrichment Analysis\n",
    "We use this notebook to show that the small sample lymphocyte proteomics data is in fact representative of lymphocytes specifically."
   ]
  },
  {
   "cell_type": "code",
   "execution_count": 1,
   "metadata": {},
   "outputs": [],
   "source": [
    "import load_data\n",
    "data = load_data.load_FragPipe(version='July_noMBR_FP', contains=[])"
   ]
  },
  {
   "cell_type": "markdown",
   "metadata": {},
   "source": [
    "Here we use a function from load_data to get the names, both the gene name code and verbose headers. We then add these to the quantification data."
   ]
  },
  {
   "cell_type": "code",
   "execution_count": 2,
   "metadata": {},
   "outputs": [
    {
     "data": {
      "text/plain": [
       "Q96IY4                     CBPB2_HUMAN Carboxypeptidase B2 \n",
       "P22362                    CCL1_HUMAN C-C motif chemokine 1 \n",
       "Q8NCR9                                CLRN3_HUMAN Clarin-3 \n",
       "Q8IUK8                            CBLN2_HUMAN Cerebellin-2 \n",
       "Q9BX69    CARD6_HUMAN Caspase recruitment domain-contain...\n",
       "                                ...                        \n",
       "Q8WUP2           FBLI1_HUMAN Filamin-binding LIM protein 1 \n",
       "P09038               FGF2_HUMAN Fibroblast growth factor 2 \n",
       "P10071           GLI3_HUMAN Transcriptional activator GLI3 \n",
       "P32189                          GLPK_HUMAN Glycerol kinase \n",
       "Q9NXW2      DJB12_HUMAN DnaJ homolog subfamily B member 12 \n",
       "Length: 20364, dtype: object"
      ]
     },
     "execution_count": 2,
     "metadata": {},
     "output_type": "execute_result"
    }
   ],
   "source": [
    "names = load_data.load_fasta()\n",
    "names"
   ]
  },
  {
   "cell_type": "code",
   "execution_count": 3,
   "metadata": {},
   "outputs": [],
   "source": [
    "data['Names'] = names.apply(lambda n: str(n).split('_HUMAN')[0])\n",
    "data['Header'] = names.apply(lambda n: str(n).split('_HUMAN')[1])"
   ]
  },
  {
   "cell_type": "markdown",
   "metadata": {},
   "source": [
    "Now we can run Gene Set Enrichment Analysis (GSEA) on the proteins identified."
   ]
  },
  {
   "cell_type": "code",
   "execution_count": 4,
   "metadata": {},
   "outputs": [],
   "source": [
    "import gseapy as gp\n",
    "from gseapy.plot import barplot, dotplot\n",
    "import matplotlib.pyplot as plt\n"
   ]
  },
  {
   "cell_type": "code",
   "execution_count": 11,
   "metadata": {},
   "outputs": [],
   "source": [
    "genesets = [\n",
    "    #'WikiPathways_2019_Human',  #\n",
    "    #'BioPlanet_2019',   \n",
    "    'ProteomicsDB_2020',    \n",
    "    #'CCLE_Proteomics_2020', #says Hematopoetic and Lymphoid Tissues\n",
    "    #'GO_Molecular_Function_2018',\n",
    "]\n"
   ]
  },
  {
   "cell_type": "markdown",
   "metadata": {},
   "source": [
    "We use the ProteomicsDB_2020 genesets, which compare our samples to documented lineages. The following plots show that the lymphocytes we measured are highly similar to several lymphoblastoid cell lines. Bones share a similarity as well, due to XXX"
   ]
  },
  {
   "cell_type": "code",
   "execution_count": 12,
   "metadata": {
    "scrolled": false
   },
   "outputs": [
    {
     "name": "stdout",
     "output_type": "stream",
     "text": [
      "ProteomicsDB_2020\n"
     ]
    },
    {
     "data": {
      "text/html": [
       "<div>\n",
       "<style scoped>\n",
       "    .dataframe tbody tr th:only-of-type {\n",
       "        vertical-align: middle;\n",
       "    }\n",
       "\n",
       "    .dataframe tbody tr th {\n",
       "        vertical-align: top;\n",
       "    }\n",
       "\n",
       "    .dataframe thead th {\n",
       "        text-align: right;\n",
       "    }\n",
       "</style>\n",
       "<table border=\"1\" class=\"dataframe\">\n",
       "  <thead>\n",
       "    <tr style=\"text-align: right;\">\n",
       "      <th></th>\n",
       "      <th>Term</th>\n",
       "      <th>Adjusted P-value</th>\n",
       "    </tr>\n",
       "  </thead>\n",
       "  <tbody>\n",
       "    <tr>\n",
       "      <th>0</th>\n",
       "      <td>Lymphoblastoid BTO:0000773 X129.126 HM11.GM18552</td>\n",
       "      <td>2.103470e-08</td>\n",
       "    </tr>\n",
       "    <tr>\n",
       "      <th>1</th>\n",
       "      <td>Lymphoblastoid BTO:0000773 X126.126 HM11.GM12878</td>\n",
       "      <td>4.892894e-08</td>\n",
       "    </tr>\n",
       "    <tr>\n",
       "      <th>2</th>\n",
       "      <td>Lymphoblastoid BTO:0000773 X127.126 HM11.GM12878</td>\n",
       "      <td>1.790492e-07</td>\n",
       "    </tr>\n",
       "    <tr>\n",
       "      <th>3</th>\n",
       "      <td>Lymphoblastoid BTO:0000773 X128.126 HM11.GM12878</td>\n",
       "      <td>1.790492e-07</td>\n",
       "    </tr>\n",
       "    <tr>\n",
       "      <th>4</th>\n",
       "      <td>Lymphoblastoid BTO:0000773 X130.126 HM11.GM18522</td>\n",
       "      <td>1.790492e-07</td>\n",
       "    </tr>\n",
       "    <tr>\n",
       "      <th>5</th>\n",
       "      <td>Lymphoblastoid BTO:0000773 X131.126 HM11.GM10847</td>\n",
       "      <td>1.790492e-07</td>\n",
       "    </tr>\n",
       "    <tr>\n",
       "      <th>6</th>\n",
       "      <td>Lymphoblastoid BTO:0000773 X126.126 HM10.GM12878</td>\n",
       "      <td>2.776208e-07</td>\n",
       "    </tr>\n",
       "    <tr>\n",
       "      <th>7</th>\n",
       "      <td>Lymphoblastoid BTO:0000773 X127.126 HM10.GM07000</td>\n",
       "      <td>2.776208e-07</td>\n",
       "    </tr>\n",
       "    <tr>\n",
       "      <th>8</th>\n",
       "      <td>Lymphoblastoid BTO:0000773 X128.126 HM10.GM11992</td>\n",
       "      <td>2.776208e-07</td>\n",
       "    </tr>\n",
       "    <tr>\n",
       "      <th>9</th>\n",
       "      <td>Lymphoblastoid BTO:0000773 X129.126 HM10.GM06985</td>\n",
       "      <td>2.776208e-07</td>\n",
       "    </tr>\n",
       "    <tr>\n",
       "      <th>10</th>\n",
       "      <td>Lymphoblastoid BTO:0000773 X131.126 HM10.GM06984</td>\n",
       "      <td>2.776208e-07</td>\n",
       "    </tr>\n",
       "    <tr>\n",
       "      <th>11</th>\n",
       "      <td>Lymphoblastoid BTO:0000773 X130.126 HM10.GM18489</td>\n",
       "      <td>3.007881e-07</td>\n",
       "    </tr>\n",
       "    <tr>\n",
       "      <th>12</th>\n",
       "      <td>Hematopoietic MOLT-4 BTO:0000873 P003361</td>\n",
       "      <td>5.436629e-07</td>\n",
       "    </tr>\n",
       "    <tr>\n",
       "      <th>13</th>\n",
       "      <td>Lymphoblastoid BTO:0000773 X126.126 HM18.GM12878</td>\n",
       "      <td>2.272096e-06</td>\n",
       "    </tr>\n",
       "    <tr>\n",
       "      <th>14</th>\n",
       "      <td>Lymphoblastoid BTO:0000773 X129.126 HM18.GM07000</td>\n",
       "      <td>2.272096e-06</td>\n",
       "    </tr>\n",
       "    <tr>\n",
       "      <th>15</th>\n",
       "      <td>Lymphoblastoid BTO:0000773 X130.126 HM18.GM07357</td>\n",
       "      <td>2.272096e-06</td>\n",
       "    </tr>\n",
       "    <tr>\n",
       "      <th>16</th>\n",
       "      <td>Lymphoblastoid BTO:0000773 X131.126 HM18.GM07357</td>\n",
       "      <td>2.272096e-06</td>\n",
       "    </tr>\n",
       "    <tr>\n",
       "      <th>17</th>\n",
       "      <td>Hematopoietic PBMC BTO:0001008 81719202114 rep...</td>\n",
       "      <td>3.595076e-06</td>\n",
       "    </tr>\n",
       "    <tr>\n",
       "      <th>18</th>\n",
       "      <td>Hematopoietic PBMC BTO:0001008 81719202114 rep...</td>\n",
       "      <td>3.595076e-06</td>\n",
       "    </tr>\n",
       "    <tr>\n",
       "      <th>19</th>\n",
       "      <td>Lymphoblastoid BTO:0000773 X127.126 HM18.GM12414</td>\n",
       "      <td>3.718220e-06</td>\n",
       "    </tr>\n",
       "  </tbody>\n",
       "</table>\n",
       "</div>"
      ],
      "text/plain": [
       "                                                 Term  Adjusted P-value\n",
       "0    Lymphoblastoid BTO:0000773 X129.126 HM11.GM18552      2.103470e-08\n",
       "1    Lymphoblastoid BTO:0000773 X126.126 HM11.GM12878      4.892894e-08\n",
       "2    Lymphoblastoid BTO:0000773 X127.126 HM11.GM12878      1.790492e-07\n",
       "3    Lymphoblastoid BTO:0000773 X128.126 HM11.GM12878      1.790492e-07\n",
       "4    Lymphoblastoid BTO:0000773 X130.126 HM11.GM18522      1.790492e-07\n",
       "5    Lymphoblastoid BTO:0000773 X131.126 HM11.GM10847      1.790492e-07\n",
       "6    Lymphoblastoid BTO:0000773 X126.126 HM10.GM12878      2.776208e-07\n",
       "7    Lymphoblastoid BTO:0000773 X127.126 HM10.GM07000      2.776208e-07\n",
       "8    Lymphoblastoid BTO:0000773 X128.126 HM10.GM11992      2.776208e-07\n",
       "9    Lymphoblastoid BTO:0000773 X129.126 HM10.GM06985      2.776208e-07\n",
       "10   Lymphoblastoid BTO:0000773 X131.126 HM10.GM06984      2.776208e-07\n",
       "11   Lymphoblastoid BTO:0000773 X130.126 HM10.GM18489      3.007881e-07\n",
       "12           Hematopoietic MOLT-4 BTO:0000873 P003361      5.436629e-07\n",
       "13   Lymphoblastoid BTO:0000773 X126.126 HM18.GM12878      2.272096e-06\n",
       "14   Lymphoblastoid BTO:0000773 X129.126 HM18.GM07000      2.272096e-06\n",
       "15   Lymphoblastoid BTO:0000773 X130.126 HM18.GM07357      2.272096e-06\n",
       "16   Lymphoblastoid BTO:0000773 X131.126 HM18.GM07357      2.272096e-06\n",
       "17  Hematopoietic PBMC BTO:0001008 81719202114 rep...      3.595076e-06\n",
       "18  Hematopoietic PBMC BTO:0001008 81719202114 rep...      3.595076e-06\n",
       "19   Lymphoblastoid BTO:0000773 X127.126 HM18.GM12414      3.718220e-06"
      ]
     },
     "metadata": {},
     "output_type": "display_data"
    }
   ],
   "source": [
    "from numpy import nan\n",
    "import data_utils\n",
    "\n",
    "cell_types = [\"cells\"]#others could be specified, but here I want these generally.\n",
    "\n",
    "    \n",
    "for t in cell_types:\n",
    "    for gset in genesets:\n",
    "        #print(gene_list)\n",
    "        enr = gp.enrichr(gene_list=list(data.Names.dropna()), \n",
    "                       description=\"Lymphocytes\",\n",
    "                       gene_sets=gset,\n",
    "                       outdir='/data/test/enrichr'\n",
    "                    )\n",
    "\n",
    "        #as table:\n",
    "        print(gset)\n",
    "        display(enr.res2d[['Term','Adjusted P-value']][0:20])\n",
    "        enr.res2d[['Term','Adjusted P-value']][0:20].to_csv( 'data/{0}.tsv'.format(gset), sep='\\t')\n",
    "\n",
    "        #as barplot\n",
    "        #plt.rcParams['font.size'] = 25\n",
    "\n",
    "        #plt.subplots_adjust(left=3, right=4,hspace=None)\n",
    "        #barplot(enr.res2d, top_term=25, figsize=(12, 10))#, title=gset,)\n",
    "        #plt.savefig('data/{0}_6_FP.png'.format(gset), bbox_inches='tight', dpi=400)\n",
    "        #plt.show()"
   ]
  },
  {
   "cell_type": "code",
   "execution_count": 7,
   "metadata": {},
   "outputs": [],
   "source": [
    "#supernatant_blanks=data['Blank_3','Blank_4','Blank_5']"
   ]
  }
 ],
 "metadata": {
  "kernelspec": {
   "display_name": "Python 3",
   "language": "python",
   "name": "python3"
  },
  "language_info": {
   "codemirror_mode": {
    "name": "ipython",
    "version": 3
   },
   "file_extension": ".py",
   "mimetype": "text/x-python",
   "name": "python",
   "nbconvert_exporter": "python",
   "pygments_lexer": "ipython3",
   "version": "3.8.3"
  }
 },
 "nbformat": 4,
 "nbformat_minor": 4
}
