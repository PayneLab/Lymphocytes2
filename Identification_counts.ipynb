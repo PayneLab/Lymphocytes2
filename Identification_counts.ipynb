{
 "cells": [
  {
   "cell_type": "markdown",
   "metadata": {},
   "source": [
    "## Counts Overview\n",
    "Here we take a summary of the number of proteins identified in each sample."
   ]
  },
  {
   "cell_type": "code",
   "execution_count": 1,
   "metadata": {},
   "outputs": [],
   "source": [
    "import load_data\n",
    "\n",
    "data_raw=load_data.load_FragPipe(version=\"July_noMBR_FP\", contains=[])"
   ]
  },
  {
   "cell_type": "markdown",
   "metadata": {},
   "source": [
    "Here we load functions that will be used."
   ]
  },
  {
   "cell_type": "code",
   "execution_count": 2,
   "metadata": {},
   "outputs": [],
   "source": [
    "import matplotlib.pyplot as plt\n",
    "from statistics import mean\n",
    "import math\n",
    "from numpy import isnan\n",
    "import seaborn as sns\n",
    "\n",
    "import numpy as np\n",
    "import pandas as pd"
   ]
  },
  {
   "cell_type": "markdown",
   "metadata": {},
   "source": [
    "Now we can get the number of non-zero values in each sample. Note that the \"Blank\" samples are supernatant samples, which are expected to have similar proteins. These are not studied in this project, but may be of interest in cellular verses extracellular protein."
   ]
  },
  {
   "cell_type": "code",
   "execution_count": 3,
   "metadata": {},
   "outputs": [
    {
     "data": {
      "text/plain": [
       "Blank_5                          735\n",
       "Blank_4                          788\n",
       "Blank_3                          811\n",
       "Subject1_B_cells_062920_C_11    1080\n",
       "Subject1_B_cells_062920_C_13    1080\n",
       "Subject1_T_cells_062920_D_12    1140\n",
       "Subject2_B_cells_062920_E_12    1142\n",
       "Subject1_T_cells_062920_D_13    1144\n",
       "Subject1_T_cells_062920_D_10    1151\n",
       "Subject2_B_cells_062920_E_13    1161\n",
       "Subject1_B_cells_062920_C_9     1161\n",
       "Subject2_B_cells_062920_E_16    1170\n",
       "Subject1_T_cells_062920_D_9     1171\n",
       "Subject2_B_cells_062920_E_11    1176\n",
       "Subject2_T_cells_062920_F_12    1180\n",
       "Subject2_T_cells_062920_F_14    1196\n",
       "Subject2_B_cells_062920_E_9     1238\n",
       "Subject1_B_cells_062920_C_10    1240\n",
       "Subject2_T_cells_062920_F_13    1247\n",
       "Subject2_T_cells_062920_F_9     1252\n",
       "Subject1_T_cells_062920_D_11    1265\n",
       "Subject2_T_cells_062920_F_11    1278\n",
       "Subject1_T_cells_072920_D_5     1297\n",
       "Subject2_T_cells_072920_F_3     1323\n",
       "Subject1_B_cells_072920_C_4     1328\n",
       "Subject1_B_cells_062920_C_12    1332\n",
       "Subject2_T_cells_072920_F_8     1335\n",
       "Subject2_T_cells_072920_F_4     1339\n",
       "Subject1_T_cells_072920_D_7     1353\n",
       "Subject2_T_cells_062920_F_10    1369\n",
       "Subject2_T_cells_072920_F_5     1370\n",
       "Subject2_T_cells_072920_F_6     1377\n",
       "Subject1_T_cells_072920_D_4     1383\n",
       "Subject2_T_cells_072920_F_1     1407\n",
       "Subject1_T_cells_072920_D_6     1420\n",
       "Subject1_T_cells_072920_D_2     1422\n",
       "Subject1_B_cells_072920_C_8     1426\n",
       "Subject1_B_cells_072920_C_6     1430\n",
       "Subject1_B_cells_072920_C_9     1464\n",
       "Subject2_B_cells_072920_E_1     1471\n",
       "Subject1_B_cells_072920_C_5     1483\n",
       "Subject2_B_cells_072920_E_5     1542\n",
       "Subject2_B_cells_072920_E_7     1579\n",
       "Subject2_B_cells_072920_E_4     1579\n",
       "Subject2_B_cells_072920_E_8     1587\n",
       "Subject2_B_cells_072920_E_2     1607\n",
       "dtype: int64"
      ]
     },
     "execution_count": 3,
     "metadata": {},
     "output_type": "execute_result"
    }
   ],
   "source": [
    "counts = data_raw.apply(np.count_nonzero)\n",
    "counts.sort_values()"
   ]
  },
  {
   "cell_type": "code",
   "execution_count": 4,
   "metadata": {},
   "outputs": [
    {
     "name": "stdout",
     "output_type": "stream",
     "text": [
      "Overall mean:\t 1318.4883720930231\n",
      "1_B_cells_062920 mean:\t 1178.6\n",
      "1_B_cells_072920 mean:\t 1426.2\n",
      "2_B_cells_062920 mean:\t 1177.4\n",
      "2_B_cells_072920 mean:\t 1560.8333333333333\n",
      "1_T_cells_062920 mean:\t 1174.2\n",
      "1_T_cells_072920 mean:\t 1375\n",
      "2_T_cells_062920 mean:\t 1253.6666666666667\n",
      "2_T_cells_072920 mean:\t 1358.5\n"
     ]
    }
   ],
   "source": [
    "counts.drop(['Blank_5','Blank_4','Blank_3'], inplace=True)\n",
    "print(\"Overall mean:\\t\",mean(counts))\n",
    "\n",
    "samples=np.array(data_raw.columns.values)\n",
    "\n",
    "cell_types = [\"1_B_cells_062920\",\"1_B_cells_072920\", \"2_B_cells_062920\",  \"2_B_cells_072920\",\n",
    "              \"1_T_cells_062920\",\"1_T_cells_072920\",\"2_T_cells_062920\", \"2_T_cells_072920\"]\n",
    "for cell_type in cell_types:\n",
    "    cells_of_type = list(s for i,s in enumerate(samples) if cell_type in s)\n",
    "    print(cell_type,'mean:\\t',mean(counts[cells_of_type]))"
   ]
  },
  {
   "cell_type": "markdown",
   "metadata": {},
   "source": [
    "Here we visualized that same data for clarity. To improve the bar plot, we will assign a color to each type to make the replicates more distinct."
   ]
  },
  {
   "cell_type": "code",
   "execution_count": 5,
   "metadata": {
    "scrolled": false
   },
   "outputs": [],
   "source": [
    "cell_types = ['062920','072920']\n",
    "cell_types = [\"1_B_cells_062920\",\"1_B_cells_072920\", \"2_B_cells_062920\",  \"2_B_cells_072920\",\n",
    "              \"1_T_cells_062920\",\"1_T_cells_072920\",\"2_T_cells_062920\", \"2_T_cells_072920\"]\n",
    "\n",
    "colors = ['#0066ff','orange','#0066ff','orange','#0066ff','orange','#0066ff','orange','#0066ff']\n",
    "samples=np.array(data_raw.columns.values)\n",
    "\n",
    "color_by_type = []\n",
    "for cell_type in cell_types:\n",
    "    cells_of_type = list(s for i,s in enumerate(samples) if cell_type in s)\n",
    "    \n",
    "    for c in cells_of_type:\n",
    "        color_by_type.append(colors[0])\n",
    "    colors.pop(0)\n",
    "    "
   ]
  },
  {
   "cell_type": "code",
   "execution_count": 6,
   "metadata": {
    "scrolled": false
   },
   "outputs": [
    {
     "data": {
      "text/plain": [
       "Text(0, 0.5, 'Number of proteins')"
      ]
     },
     "execution_count": 6,
     "metadata": {},
     "output_type": "execute_result"
    },
    {
     "data": {
      "image/png": "[encoded data removed]",
      "text/plain": [
       "<Figure size 1008x288 with 1 Axes>"
      ]
     },
     "metadata": {
      "needs_background": "light"
     },
     "output_type": "display_data"
    }
   ],
   "source": [
    "fig = counts.plot(kind='bar', color=color_by_type, figsize=(14,4))\n",
    "plt.setp(fig.get_xticklabels(), rotation=45,horizontalalignment='right')\n",
    "plt.xlabel(\"Sample\")\n",
    "plt.ylabel(\"Number of proteins\")\n",
    "#plt.show()\n",
    "#plt.savefig('data/figures/protein_counts_lymph.png', dpi=300, bbox_inches='tight')"
   ]
  }
 ],
 "metadata": {
  "kernelspec": {
   "display_name": "Python 3",
   "language": "python",
   "name": "python3"
  },
  "language_info": {
   "codemirror_mode": {
    "name": "ipython",
    "version": 3
   },
   "file_extension": ".py",
   "mimetype": "text/x-python",
   "name": "python",
   "nbconvert_exporter": "python",
   "pygments_lexer": "ipython3",
   "version": "3.8.3"
  }
 },
 "nbformat": 4,
 "nbformat_minor": 4
}
