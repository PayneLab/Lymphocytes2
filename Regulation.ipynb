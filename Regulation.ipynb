{
 "cells": [
  {
   "cell_type": "markdown",
   "metadata": {},
   "source": [
    "## B cells in two subjects\n",
    "The data used in this notebook is lymphocyte data for two patients' B cells. Here, we note presence/absense changes and quantify fold changes using a T test.\n"
   ]
  },
  {
   "cell_type": "markdown",
   "metadata": {},
   "source": [
    "First, we import our loader module. This brings the functions defined there (in our repository at ~/load_data.py) into scope so we can use them in this script. Then we can load our data and store it as <code>data</code>.\n",
    "\n",
    "Calling <code>head</code> shows the first several lines of the dataframe, which provides an idea of the type of data present and the structure of the dataframe."
   ]
  },
  {
   "cell_type": "code",
   "execution_count": 1,
   "metadata": {},
   "outputs": [
    {
     "data": {
      "text/html": [
       "<div>\n",
       "<style scoped>\n",
       "    .dataframe tbody tr th:only-of-type {\n",
       "        vertical-align: middle;\n",
       "    }\n",
       "\n",
       "    .dataframe tbody tr th {\n",
       "        vertical-align: top;\n",
       "    }\n",
       "\n",
       "    .dataframe thead th {\n",
       "        text-align: right;\n",
       "    }\n",
       "</style>\n",
       "<table border=\"1\" class=\"dataframe\">\n",
       "  <thead>\n",
       "    <tr style=\"text-align: right;\">\n",
       "      <th></th>\n",
       "      <th>Blank_3</th>\n",
       "      <th>Blank_4</th>\n",
       "      <th>Blank_5</th>\n",
       "      <th>Subject1_B_cells_062920_C_10</th>\n",
       "      <th>Subject1_B_cells_062920_C_11</th>\n",
       "      <th>Subject1_B_cells_062920_C_12</th>\n",
       "      <th>Subject1_B_cells_062920_C_13</th>\n",
       "      <th>Subject1_B_cells_062920_C_9</th>\n",
       "      <th>Subject1_B_cells_072920_C_4</th>\n",
       "      <th>Subject1_B_cells_072920_C_5</th>\n",
       "      <th>...</th>\n",
       "      <th>Subject2_T_cells_062920_F_12</th>\n",
       "      <th>Subject2_T_cells_062920_F_13</th>\n",
       "      <th>Subject2_T_cells_062920_F_14</th>\n",
       "      <th>Subject2_T_cells_062920_F_9</th>\n",
       "      <th>Subject2_T_cells_072920_F_1</th>\n",
       "      <th>Subject2_T_cells_072920_F_3</th>\n",
       "      <th>Subject2_T_cells_072920_F_4</th>\n",
       "      <th>Subject2_T_cells_072920_F_5</th>\n",
       "      <th>Subject2_T_cells_072920_F_6</th>\n",
       "      <th>Subject2_T_cells_072920_F_8</th>\n",
       "    </tr>\n",
       "    <tr>\n",
       "      <th>Protein ID</th>\n",
       "      <th></th>\n",
       "      <th></th>\n",
       "      <th></th>\n",
       "      <th></th>\n",
       "      <th></th>\n",
       "      <th></th>\n",
       "      <th></th>\n",
       "      <th></th>\n",
       "      <th></th>\n",
       "      <th></th>\n",
       "      <th></th>\n",
       "      <th></th>\n",
       "      <th></th>\n",
       "      <th></th>\n",
       "      <th></th>\n",
       "      <th></th>\n",
       "      <th></th>\n",
       "      <th></th>\n",
       "      <th></th>\n",
       "      <th></th>\n",
       "      <th></th>\n",
       "    </tr>\n",
       "  </thead>\n",
       "  <tbody>\n",
       "    <tr>\n",
       "      <th>A0A0B4J2D5</th>\n",
       "      <td>0.0</td>\n",
       "      <td>0.0</td>\n",
       "      <td>0.0</td>\n",
       "      <td>3203277.5</td>\n",
       "      <td>4697996.0</td>\n",
       "      <td>7346776.5</td>\n",
       "      <td>8472867.0</td>\n",
       "      <td>4280919.5</td>\n",
       "      <td>0.0</td>\n",
       "      <td>4787781.50</td>\n",
       "      <td>...</td>\n",
       "      <td>0.0</td>\n",
       "      <td>4905873.00</td>\n",
       "      <td>0.0</td>\n",
       "      <td>3405266.0</td>\n",
       "      <td>4656720.00</td>\n",
       "      <td>1673629.9</td>\n",
       "      <td>6060600.5</td>\n",
       "      <td>2407679.5</td>\n",
       "      <td>7791855.0</td>\n",
       "      <td>5542659.50</td>\n",
       "    </tr>\n",
       "    <tr>\n",
       "      <th>A0AVT1</th>\n",
       "      <td>0.0</td>\n",
       "      <td>0.0</td>\n",
       "      <td>0.0</td>\n",
       "      <td>1917388.2</td>\n",
       "      <td>3033529.2</td>\n",
       "      <td>3773018.8</td>\n",
       "      <td>1865758.6</td>\n",
       "      <td>5191332.5</td>\n",
       "      <td>3332031.5</td>\n",
       "      <td>2464089.00</td>\n",
       "      <td>...</td>\n",
       "      <td>1091121.4</td>\n",
       "      <td>630647.25</td>\n",
       "      <td>576871.9</td>\n",
       "      <td>0.0</td>\n",
       "      <td>0.00</td>\n",
       "      <td>0.0</td>\n",
       "      <td>0.0</td>\n",
       "      <td>827356.1</td>\n",
       "      <td>1260652.0</td>\n",
       "      <td>0.00</td>\n",
       "    </tr>\n",
       "    <tr>\n",
       "      <th>A0FGR8</th>\n",
       "      <td>0.0</td>\n",
       "      <td>0.0</td>\n",
       "      <td>0.0</td>\n",
       "      <td>0.0</td>\n",
       "      <td>0.0</td>\n",
       "      <td>0.0</td>\n",
       "      <td>0.0</td>\n",
       "      <td>0.0</td>\n",
       "      <td>0.0</td>\n",
       "      <td>0.00</td>\n",
       "      <td>...</td>\n",
       "      <td>1514363.4</td>\n",
       "      <td>866311.94</td>\n",
       "      <td>0.0</td>\n",
       "      <td>0.0</td>\n",
       "      <td>0.00</td>\n",
       "      <td>0.0</td>\n",
       "      <td>0.0</td>\n",
       "      <td>0.0</td>\n",
       "      <td>653698.6</td>\n",
       "      <td>879074.56</td>\n",
       "    </tr>\n",
       "    <tr>\n",
       "      <th>A6NHR9</th>\n",
       "      <td>0.0</td>\n",
       "      <td>0.0</td>\n",
       "      <td>0.0</td>\n",
       "      <td>2650513.5</td>\n",
       "      <td>0.0</td>\n",
       "      <td>3788095.8</td>\n",
       "      <td>0.0</td>\n",
       "      <td>0.0</td>\n",
       "      <td>1845555.5</td>\n",
       "      <td>933499.44</td>\n",
       "      <td>...</td>\n",
       "      <td>0.0</td>\n",
       "      <td>0.00</td>\n",
       "      <td>0.0</td>\n",
       "      <td>0.0</td>\n",
       "      <td>430484.97</td>\n",
       "      <td>0.0</td>\n",
       "      <td>0.0</td>\n",
       "      <td>0.0</td>\n",
       "      <td>538303.6</td>\n",
       "      <td>948190.40</td>\n",
       "    </tr>\n",
       "    <tr>\n",
       "      <th>A8K2U0</th>\n",
       "      <td>0.0</td>\n",
       "      <td>0.0</td>\n",
       "      <td>0.0</td>\n",
       "      <td>0.0</td>\n",
       "      <td>0.0</td>\n",
       "      <td>0.0</td>\n",
       "      <td>1149867.8</td>\n",
       "      <td>0.0</td>\n",
       "      <td>0.0</td>\n",
       "      <td>0.00</td>\n",
       "      <td>...</td>\n",
       "      <td>0.0</td>\n",
       "      <td>0.00</td>\n",
       "      <td>0.0</td>\n",
       "      <td>0.0</td>\n",
       "      <td>0.00</td>\n",
       "      <td>0.0</td>\n",
       "      <td>0.0</td>\n",
       "      <td>0.0</td>\n",
       "      <td>0.0</td>\n",
       "      <td>0.00</td>\n",
       "    </tr>\n",
       "    <tr>\n",
       "      <th>...</th>\n",
       "      <td>...</td>\n",
       "      <td>...</td>\n",
       "      <td>...</td>\n",
       "      <td>...</td>\n",
       "      <td>...</td>\n",
       "      <td>...</td>\n",
       "      <td>...</td>\n",
       "      <td>...</td>\n",
       "      <td>...</td>\n",
       "      <td>...</td>\n",
       "      <td>...</td>\n",
       "      <td>...</td>\n",
       "      <td>...</td>\n",
       "      <td>...</td>\n",
       "      <td>...</td>\n",
       "      <td>...</td>\n",
       "      <td>...</td>\n",
       "      <td>...</td>\n",
       "      <td>...</td>\n",
       "      <td>...</td>\n",
       "      <td>...</td>\n",
       "    </tr>\n",
       "    <tr>\n",
       "      <th>O15068</th>\n",
       "      <td>0.0</td>\n",
       "      <td>0.0</td>\n",
       "      <td>0.0</td>\n",
       "      <td>0.0</td>\n",
       "      <td>0.0</td>\n",
       "      <td>0.0</td>\n",
       "      <td>0.0</td>\n",
       "      <td>0.0</td>\n",
       "      <td>0.0</td>\n",
       "      <td>0.00</td>\n",
       "      <td>...</td>\n",
       "      <td>0.0</td>\n",
       "      <td>0.00</td>\n",
       "      <td>0.0</td>\n",
       "      <td>0.0</td>\n",
       "      <td>0.00</td>\n",
       "      <td>0.0</td>\n",
       "      <td>0.0</td>\n",
       "      <td>0.0</td>\n",
       "      <td>0.0</td>\n",
       "      <td>0.00</td>\n",
       "    </tr>\n",
       "    <tr>\n",
       "      <th>Q14C86</th>\n",
       "      <td>0.0</td>\n",
       "      <td>0.0</td>\n",
       "      <td>0.0</td>\n",
       "      <td>0.0</td>\n",
       "      <td>0.0</td>\n",
       "      <td>1139333.0</td>\n",
       "      <td>0.0</td>\n",
       "      <td>0.0</td>\n",
       "      <td>0.0</td>\n",
       "      <td>0.00</td>\n",
       "      <td>...</td>\n",
       "      <td>0.0</td>\n",
       "      <td>0.00</td>\n",
       "      <td>0.0</td>\n",
       "      <td>0.0</td>\n",
       "      <td>0.00</td>\n",
       "      <td>0.0</td>\n",
       "      <td>0.0</td>\n",
       "      <td>0.0</td>\n",
       "      <td>1029046.4</td>\n",
       "      <td>0.00</td>\n",
       "    </tr>\n",
       "    <tr>\n",
       "      <th>Q8N4T8</th>\n",
       "      <td>0.0</td>\n",
       "      <td>0.0</td>\n",
       "      <td>0.0</td>\n",
       "      <td>0.0</td>\n",
       "      <td>0.0</td>\n",
       "      <td>0.0</td>\n",
       "      <td>0.0</td>\n",
       "      <td>0.0</td>\n",
       "      <td>0.0</td>\n",
       "      <td>0.00</td>\n",
       "      <td>...</td>\n",
       "      <td>0.0</td>\n",
       "      <td>0.00</td>\n",
       "      <td>0.0</td>\n",
       "      <td>0.0</td>\n",
       "      <td>0.00</td>\n",
       "      <td>0.0</td>\n",
       "      <td>0.0</td>\n",
       "      <td>0.0</td>\n",
       "      <td>0.0</td>\n",
       "      <td>0.00</td>\n",
       "    </tr>\n",
       "    <tr>\n",
       "      <th>Q8IW45</th>\n",
       "      <td>0.0</td>\n",
       "      <td>0.0</td>\n",
       "      <td>0.0</td>\n",
       "      <td>0.0</td>\n",
       "      <td>0.0</td>\n",
       "      <td>0.0</td>\n",
       "      <td>0.0</td>\n",
       "      <td>0.0</td>\n",
       "      <td>0.0</td>\n",
       "      <td>0.00</td>\n",
       "      <td>...</td>\n",
       "      <td>0.0</td>\n",
       "      <td>0.00</td>\n",
       "      <td>0.0</td>\n",
       "      <td>0.0</td>\n",
       "      <td>0.00</td>\n",
       "      <td>0.0</td>\n",
       "      <td>0.0</td>\n",
       "      <td>0.0</td>\n",
       "      <td>0.0</td>\n",
       "      <td>0.00</td>\n",
       "    </tr>\n",
       "    <tr>\n",
       "      <th>Q96PP8</th>\n",
       "      <td>0.0</td>\n",
       "      <td>0.0</td>\n",
       "      <td>0.0</td>\n",
       "      <td>0.0</td>\n",
       "      <td>0.0</td>\n",
       "      <td>0.0</td>\n",
       "      <td>0.0</td>\n",
       "      <td>0.0</td>\n",
       "      <td>0.0</td>\n",
       "      <td>0.00</td>\n",
       "      <td>...</td>\n",
       "      <td>2672994.5</td>\n",
       "      <td>0.00</td>\n",
       "      <td>1829618.0</td>\n",
       "      <td>0.0</td>\n",
       "      <td>0.00</td>\n",
       "      <td>0.0</td>\n",
       "      <td>0.0</td>\n",
       "      <td>0.0</td>\n",
       "      <td>0.0</td>\n",
       "      <td>0.00</td>\n",
       "    </tr>\n",
       "  </tbody>\n",
       "</table>\n",
       "<p>2426 rows × 46 columns</p>\n",
       "</div>"
      ],
      "text/plain": [
       "            Blank_3  Blank_4  Blank_5  Subject1_B_cells_062920_C_10  \\\n",
       "Protein ID                                                            \n",
       "A0A0B4J2D5      0.0      0.0      0.0                     3203277.5   \n",
       "A0AVT1          0.0      0.0      0.0                     1917388.2   \n",
       "A0FGR8          0.0      0.0      0.0                           0.0   \n",
       "A6NHR9          0.0      0.0      0.0                     2650513.5   \n",
       "A8K2U0          0.0      0.0      0.0                           0.0   \n",
       "...             ...      ...      ...                           ...   \n",
       "O15068          0.0      0.0      0.0                           0.0   \n",
       "Q14C86          0.0      0.0      0.0                           0.0   \n",
       "Q8N4T8          0.0      0.0      0.0                           0.0   \n",
       "Q8IW45          0.0      0.0      0.0                           0.0   \n",
       "Q96PP8          0.0      0.0      0.0                           0.0   \n",
       "\n",
       "            Subject1_B_cells_062920_C_11  Subject1_B_cells_062920_C_12  \\\n",
       "Protein ID                                                               \n",
       "A0A0B4J2D5                     4697996.0                     7346776.5   \n",
       "A0AVT1                         3033529.2                     3773018.8   \n",
       "A0FGR8                               0.0                           0.0   \n",
       "A6NHR9                               0.0                     3788095.8   \n",
       "A8K2U0                               0.0                           0.0   \n",
       "...                                  ...                           ...   \n",
       "O15068                               0.0                           0.0   \n",
       "Q14C86                               0.0                     1139333.0   \n",
       "Q8N4T8                               0.0                           0.0   \n",
       "Q8IW45                               0.0                           0.0   \n",
       "Q96PP8                               0.0                           0.0   \n",
       "\n",
       "            Subject1_B_cells_062920_C_13  Subject1_B_cells_062920_C_9  \\\n",
       "Protein ID                                                              \n",
       "A0A0B4J2D5                     8472867.0                    4280919.5   \n",
       "A0AVT1                         1865758.6                    5191332.5   \n",
       "A0FGR8                               0.0                          0.0   \n",
       "A6NHR9                               0.0                          0.0   \n",
       "A8K2U0                         1149867.8                          0.0   \n",
       "...                                  ...                          ...   \n",
       "O15068                               0.0                          0.0   \n",
       "Q14C86                               0.0                          0.0   \n",
       "Q8N4T8                               0.0                          0.0   \n",
       "Q8IW45                               0.0                          0.0   \n",
       "Q96PP8                               0.0                          0.0   \n",
       "\n",
       "            Subject1_B_cells_072920_C_4  Subject1_B_cells_072920_C_5  ...  \\\n",
       "Protein ID                                                            ...   \n",
       "A0A0B4J2D5                          0.0                   4787781.50  ...   \n",
       "A0AVT1                        3332031.5                   2464089.00  ...   \n",
       "A0FGR8                              0.0                         0.00  ...   \n",
       "A6NHR9                        1845555.5                    933499.44  ...   \n",
       "A8K2U0                              0.0                         0.00  ...   \n",
       "...                                 ...                          ...  ...   \n",
       "O15068                              0.0                         0.00  ...   \n",
       "Q14C86                              0.0                         0.00  ...   \n",
       "Q8N4T8                              0.0                         0.00  ...   \n",
       "Q8IW45                              0.0                         0.00  ...   \n",
       "Q96PP8                              0.0                         0.00  ...   \n",
       "\n",
       "            Subject2_T_cells_062920_F_12  Subject2_T_cells_062920_F_13  \\\n",
       "Protein ID                                                               \n",
       "A0A0B4J2D5                           0.0                    4905873.00   \n",
       "A0AVT1                         1091121.4                     630647.25   \n",
       "A0FGR8                         1514363.4                     866311.94   \n",
       "A6NHR9                               0.0                          0.00   \n",
       "A8K2U0                               0.0                          0.00   \n",
       "...                                  ...                           ...   \n",
       "O15068                               0.0                          0.00   \n",
       "Q14C86                               0.0                          0.00   \n",
       "Q8N4T8                               0.0                          0.00   \n",
       "Q8IW45                               0.0                          0.00   \n",
       "Q96PP8                         2672994.5                          0.00   \n",
       "\n",
       "            Subject2_T_cells_062920_F_14  Subject2_T_cells_062920_F_9  \\\n",
       "Protein ID                                                              \n",
       "A0A0B4J2D5                           0.0                    3405266.0   \n",
       "A0AVT1                          576871.9                          0.0   \n",
       "A0FGR8                               0.0                          0.0   \n",
       "A6NHR9                               0.0                          0.0   \n",
       "A8K2U0                               0.0                          0.0   \n",
       "...                                  ...                          ...   \n",
       "O15068                               0.0                          0.0   \n",
       "Q14C86                               0.0                          0.0   \n",
       "Q8N4T8                               0.0                          0.0   \n",
       "Q8IW45                               0.0                          0.0   \n",
       "Q96PP8                         1829618.0                          0.0   \n",
       "\n",
       "            Subject2_T_cells_072920_F_1  Subject2_T_cells_072920_F_3  \\\n",
       "Protein ID                                                             \n",
       "A0A0B4J2D5                   4656720.00                    1673629.9   \n",
       "A0AVT1                             0.00                          0.0   \n",
       "A0FGR8                             0.00                          0.0   \n",
       "A6NHR9                        430484.97                          0.0   \n",
       "A8K2U0                             0.00                          0.0   \n",
       "...                                 ...                          ...   \n",
       "O15068                             0.00                          0.0   \n",
       "Q14C86                             0.00                          0.0   \n",
       "Q8N4T8                             0.00                          0.0   \n",
       "Q8IW45                             0.00                          0.0   \n",
       "Q96PP8                             0.00                          0.0   \n",
       "\n",
       "            Subject2_T_cells_072920_F_4  Subject2_T_cells_072920_F_5  \\\n",
       "Protein ID                                                             \n",
       "A0A0B4J2D5                    6060600.5                    2407679.5   \n",
       "A0AVT1                              0.0                     827356.1   \n",
       "A0FGR8                              0.0                          0.0   \n",
       "A6NHR9                              0.0                          0.0   \n",
       "A8K2U0                              0.0                          0.0   \n",
       "...                                 ...                          ...   \n",
       "O15068                              0.0                          0.0   \n",
       "Q14C86                              0.0                          0.0   \n",
       "Q8N4T8                              0.0                          0.0   \n",
       "Q8IW45                              0.0                          0.0   \n",
       "Q96PP8                              0.0                          0.0   \n",
       "\n",
       "            Subject2_T_cells_072920_F_6  Subject2_T_cells_072920_F_8  \n",
       "Protein ID                                                            \n",
       "A0A0B4J2D5                    7791855.0                   5542659.50  \n",
       "A0AVT1                        1260652.0                         0.00  \n",
       "A0FGR8                         653698.6                    879074.56  \n",
       "A6NHR9                         538303.6                    948190.40  \n",
       "A8K2U0                              0.0                         0.00  \n",
       "...                                 ...                          ...  \n",
       "O15068                              0.0                         0.00  \n",
       "Q14C86                        1029046.4                         0.00  \n",
       "Q8N4T8                              0.0                         0.00  \n",
       "Q8IW45                              0.0                         0.00  \n",
       "Q96PP8                              0.0                         0.00  \n",
       "\n",
       "[2426 rows x 46 columns]"
      ]
     },
     "execution_count": 1,
     "metadata": {},
     "output_type": "execute_result"
    }
   ],
   "source": [
    "import load_data\n",
    "import pandas as pd\n",
    "data_raw = load_data.load_FragPipe(version='July_noMBR_FP', contains=[])\n",
    "\n",
    "data_raw"
   ]
  },
  {
   "cell_type": "markdown",
   "metadata": {},
   "source": [
    "These are some methods that check if a value was measured or not and if the protein was measured in each type."
   ]
  },
  {
   "cell_type": "code",
   "execution_count": 2,
   "metadata": {},
   "outputs": [],
   "source": [
    "import data_utils\n",
    "from numpy import nan\n",
    "from numpy import log2\n",
    "from statistics import median, mean"
   ]
  },
  {
   "cell_type": "markdown",
   "metadata": {},
   "source": [
    "Here we record which proteins are only identified in one cell type. We'll set these aside for now, in the <code>data_in_one_type</code> dataframe. Note that <code>min_reps</code> is the minimum number of replicates required to list a protein as present in one type. This can be changed, i.e., <code>min_reps=5</code> to determine the proteins identified in all 5 replicates of a single type; do not set it to a number greater than the replicates run or no proteins will be returned."
   ]
  },
  {
   "cell_type": "code",
   "execution_count": 3,
   "metadata": {},
   "outputs": [],
   "source": [
    "types = ['Subject1_B_cells_062920', 'Subject2_B_cells_062920']\n",
    "types = [\"B_cells_062920\",\"B_cells_072920\", \"T_cells_062920\",  \"T_cells_072920\"]\n",
    "\n",
    "all_cell_types = [\"1_B_cells_062920\",\"1_B_cells_072920\", \"2_B_cells_062920\",  \"2_B_cells_072920\",\n",
    "              \"1_T_cells_062920\",\"1_T_cells_072920\",\"2_T_cells_062920\", \"2_T_cells_072920\"]"
   ]
  },
  {
   "cell_type": "markdown",
   "metadata": {},
   "source": [
    "Next, we select the proteins that are measured in at least half the samples from each group, allowing the calculations to proceed without imputed zero-handling."
   ]
  },
  {
   "cell_type": "code",
   "execution_count": 4,
   "metadata": {},
   "outputs": [],
   "source": [
    "data_log2 = log2(data_raw.replace(0,nan))\n",
    "indecies = data_log2.apply(data_utils.check_n_of_each_type,\n",
    "                                      axis=1, cell_types=all_cell_types, min_reps=3)\n",
    "data_filtered = data_log2[indecies]"
   ]
  },
  {
   "cell_type": "markdown",
   "metadata": {},
   "source": [
    "Before any analysis, we log normalize and median normalize across runs."
   ]
  },
  {
   "cell_type": "code",
   "execution_count": 5,
   "metadata": {},
   "outputs": [],
   "source": [
    "data = data_filtered.apply(lambda series: series-median(series.dropna()))"
   ]
  },
  {
   "cell_type": "code",
   "execution_count": 6,
   "metadata": {},
   "outputs": [
    {
     "name": "stdout",
     "output_type": "stream",
     "text": [
      "Total groups identified:\n",
      "2426\n",
      "Proteins identified in at least 3 of each cell type:\t\n",
      "887\n"
     ]
    }
   ],
   "source": [
    "print (\"Total groups identified:\")\n",
    "print(data_raw.shape[0])\n",
    "\n",
    "print (\"Proteins identified in at least 3 of each cell type:\\t\")\n",
    "print (data.shape[0])"
   ]
  },
  {
   "cell_type": "markdown",
   "metadata": {},
   "source": [
    "Now we calulate p values using a ttest. "
   ]
  },
  {
   "cell_type": "code",
   "execution_count": 7,
   "metadata": {},
   "outputs": [
    {
     "name": "stderr",
     "output_type": "stream",
     "text": [
      "D:\\Program_Files\\Anaconda\\lib\\site-packages\\scipy\\stats\\_distn_infrastructure.py:1932: RuntimeWarning: invalid value encountered in less_equal\n",
      "  cond2 = cond0 & (x <= _a)\n"
     ]
    }
   ],
   "source": [
    "#Call ttest function\n",
    "tstats_B = data.apply(data_utils.ttest_wrapper, axis=1, cell_types=[\"B_cells_062920\", \"B_cells_072920\"])\n",
    "tstats_T = data.apply(data_utils.ttest_wrapper, axis=1, cell_types=[\"T_cells_062920\", \"T_cells_072920\"])\n"
   ]
  },
  {
   "cell_type": "markdown",
   "metadata": {},
   "source": [
    "Here we calculate fold change."
   ]
  },
  {
   "cell_type": "code",
   "execution_count": 8,
   "metadata": {},
   "outputs": [],
   "source": [
    "tstats_B['log2(B1)-log2(B2)'] = data.apply(data_utils.get_fold_changes, axis=1,\n",
    "                                         cell_types=[\"B_cells_062920\", \"B_cells_072920\"])\n",
    "tstats_T['log2(T1)-log2(T2)'] = data.apply(data_utils.get_fold_changes, axis=1,\n",
    "                                         cell_types=[\"T_cells_062920\", \"T_cells_072920\"])"
   ]
  },
  {
   "cell_type": "markdown",
   "metadata": {},
   "source": [
    "Fold change and p values allow us to create a volcano plot."
   ]
  },
  {
   "cell_type": "code",
   "execution_count": 9,
   "metadata": {},
   "outputs": [
    {
     "data": {
      "image/png": "[encoded data removed]",
      "text/plain": [
       "<Figure size 432x288 with 1 Axes>"
      ]
     },
     "metadata": {
      "needs_background": "light"
     },
     "output_type": "display_data"
    }
   ],
   "source": [
    "#graph volcano\n",
    "import matplotlib.pyplot as plt\n",
    "import seaborn as sns\n",
    "from numpy import log10\n",
    "tstats_B['-log p'] = -log10(tstats_B['pvalue'])\n",
    "tstats_T['-log p'] = -log10(tstats_T['pvalue'])\n",
    "\n",
    "figure = sns.scatterplot(x='log2(B1)-log2(B2)',y='-log p',data=tstats_B)\n",
    "figure.set_title(\"Time 1 vs Time 2 - B cells\")\n",
    "#plt.axvline(1, color ='orange')\n",
    "#plt.axvline(-1, color ='orange')\n",
    "plt.axhline(-log10(.05), color ='orange')\n",
    "plt.show()"
   ]
  },
  {
   "cell_type": "code",
   "execution_count": 10,
   "metadata": {},
   "outputs": [
    {
     "data": {
      "image/png": "[encoded data removed]",
      "text/plain": [
       "<Figure size 432x288 with 1 Axes>"
      ]
     },
     "metadata": {
      "needs_background": "light"
     },
     "output_type": "display_data"
    }
   ],
   "source": [
    "figure = sns.scatterplot(x='log2(T1)-log2(T2)',y='-log p',data=tstats_T)\n",
    "figure.set_title(\"Time 1 vs Time 2 - T cells\")\n",
    "#plt.axvline(1, color ='orange')\n",
    "#plt.axvline(-1, color ='orange')\n",
    "plt.axhline(-log10(.05), color ='orange')\n",
    "plt.show()"
   ]
  },
  {
   "cell_type": "code",
   "execution_count": 11,
   "metadata": {},
   "outputs": [
    {
     "data": {
      "image/png": "[encoded data removed]",
      "text/plain": [
       "<Figure size 432x288 with 1 Axes>"
      ]
     },
     "metadata": {
      "needs_background": "light"
     },
     "output_type": "display_data"
    }
   ],
   "source": [
    "sns.boxplot(data=pd.concat([tstats_B, tstats_T])[['log2(B1)-log2(B2)','log2(T1)-log2(T2)']])\n",
    "\n",
    "plt.savefig(\"data/BT_regulation_changes.png\", dpi=300)"
   ]
  },
  {
   "cell_type": "code",
   "execution_count": 12,
   "metadata": {},
   "outputs": [],
   "source": [
    "cell_types = [\"1_B_cells_062920\",\"1_B_cells_072920\", \"2_B_cells_062920\",  \"2_B_cells_072920\",\n",
    "              \"1_T_cells_062920\",\"1_T_cells_072920\",\"2_T_cells_062920\", \"2_T_cells_072920\"]\n",
    "\n",
    "indecies = data.apply(data_utils.check_n_of_each_type, axis=1, cell_types=cell_types)\n",
    "data = data[indecies]\n",
    "\n",
    "categories =[\"Subject1_B_cells\",\"Subject2_B_cells\",\"Subject1_T_cells\",\"Subject2_T_cells\"]\n",
    "\n",
    "summary = {}\n",
    "for c in categories:\n",
    "    summary[\"{0}\".format(c)] = data.apply(data_utils.get_fold_changes, axis=1,\n",
    "                             cell_types=[\"{0}_062920\".format(c), \"{0}_072920\".format(c)])\n",
    "summary = pd.DataFrame(summary)"
   ]
  },
  {
   "cell_type": "code",
   "execution_count": 13,
   "metadata": {},
   "outputs": [
    {
     "data": {
      "image/png": "[encoded data removed]",
      "text/plain": [
       "<Figure size 432x288 with 1 Axes>"
      ]
     },
     "metadata": {
      "needs_background": "light"
     },
     "output_type": "display_data"
    }
   ],
   "source": [
    "fig = plt.figure()\n",
    "ax = sns.boxplot(data=summary, palette  = ['skyblue', 'lightsalmon', 'steelblue',  'peru'])\n",
    "\n",
    "ax.set(ylabel=\"log2(expression time 1- time 2)\")\n",
    "\n",
    "plt.xticks(rotation=45, ha='right')\n",
    "plt.savefig(\"data/regulation_changes_byTypeandSub.png\", dpi=300, bbox_inches='tight')"
   ]
  },
  {
   "cell_type": "code",
   "execution_count": null,
   "metadata": {},
   "outputs": [],
   "source": []
  },
  {
   "cell_type": "markdown",
   "metadata": {},
   "source": [
    "Next we will identify the altered proteins."
   ]
  },
  {
   "cell_type": "code",
   "execution_count": 16,
   "metadata": {
    "scrolled": true
   },
   "outputs": [],
   "source": [
    "altered_B = tstats_B.apply(data_utils.is_altered, axis=1, cell_types=types, \n",
    "                           change_factor=False, change_col= 'log2(B1)-log2(B2)').dropna()\n",
    "altered_T = tstats_T.apply(data_utils.is_altered, axis=1, cell_types=types,\n",
    "                           change_factor=False, change_col= 'log2(T1)-log2(T2)').dropna()"
   ]
  },
  {
   "cell_type": "markdown",
   "metadata": {},
   "source": [
    "These are significantly altered (p<0.01) without restricting by the magnitude of change:"
   ]
  },
  {
   "cell_type": "code",
   "execution_count": 17,
   "metadata": {},
   "outputs": [
    {
     "data": {
      "text/plain": [
       "B_cells_072920    108\n",
       "B_cells_062920     46\n",
       "dtype: int64"
      ]
     },
     "execution_count": 17,
     "metadata": {},
     "output_type": "execute_result"
    }
   ],
   "source": [
    "altered_B.value_counts()"
   ]
  },
  {
   "cell_type": "code",
   "execution_count": 18,
   "metadata": {},
   "outputs": [
    {
     "data": {
      "text/plain": [
       "B_cells_072920    89\n",
       "B_cells_062920    42\n",
       "dtype: int64"
      ]
     },
     "execution_count": 18,
     "metadata": {},
     "output_type": "execute_result"
    }
   ],
   "source": [
    "altered_T.value_counts()"
   ]
  },
  {
   "cell_type": "markdown",
   "metadata": {},
   "source": [
    "### Differentially expressed proteins"
   ]
  },
  {
   "cell_type": "markdown",
   "metadata": {},
   "source": [
    "This shows the differentially expressed proteins. Recall that this dataset is restricted to those expressed in at least three of each cell type.\n",
    "\n",
    "The next step is to identify those proteins by name. Here we get the protein names from the fasta file, which remain the same regardless of which software the data was quantified using."
   ]
  },
  {
   "cell_type": "code",
   "execution_count": 19,
   "metadata": {},
   "outputs": [],
   "source": [
    "protein_names = load_data.load_fasta()"
   ]
  },
  {
   "cell_type": "code",
   "execution_count": 20,
   "metadata": {},
   "outputs": [],
   "source": [
    "import pandas as pd\n",
    "protein_names_by_group={}\n",
    "for ID in data_raw.index:\n",
    "    if ';' in ID:\n",
    "        ids = ID.split(';')\n",
    "        names=''\n",
    "        for i in ids:\n",
    "            if i in protein_names.index:\n",
    "                names=names + protein_names[i] + ';'\n",
    "        names = names[:-1]\n",
    "        protein_names_by_group[ID] = names\n",
    "    else:\n",
    "        if ID in protein_names.index:\n",
    "            protein_names_by_group[ID]=protein_names[ID]\n",
    "protein_names_by_group = pd.Series(list(protein_names_by_group.values()), index=protein_names_by_group.keys())"
   ]
  },
  {
   "cell_type": "markdown",
   "metadata": {},
   "source": [
    "Here we add the names to the <code>tstats</code> dataframe, which contains the fold changes for each protein. Then we can list the proteins that are altered. Optionally, use <code> head()</code> to display the first few or <code>to_csv</code> to write out to a file. We now split up the proteins heightened in B cells from those heightened in T cells."
   ]
  },
  {
   "cell_type": "code",
   "execution_count": 21,
   "metadata": {},
   "outputs": [],
   "source": [
    "tstats_B['Name']=protein_names_by_group\n",
    "tstats_B['GeneID'] = tstats_B.Name.apply(lambda n: str(n).split('_HUMAN')[0])\n",
    "\n",
    "altered_proteins_B = tstats_B.loc[altered_B.index].sort_values('log2(B1)-log2(B2)',\n",
    "                        ascending=False)[['pvalue','log2(B1)-log2(B2)','Name','GeneID']]\n",
    "higher_in_B_June = altered_proteins_B.loc[altered_proteins_B['log2(B1)-log2(B2)'] >0]\n",
    "higher_in_B_July = altered_proteins_B.loc[altered_proteins_B['log2(B1)-log2(B2)'] <0]\n",
    "\n",
    "#To write out to a file, use:\n",
    "#altered_proteins.to_csv('data/filename.tsv', sep='\\t')"
   ]
  },
  {
   "cell_type": "code",
   "execution_count": 22,
   "metadata": {},
   "outputs": [],
   "source": [
    "tstats_T['Name']=protein_names_by_group\n",
    "tstats_T['GeneID'] = tstats_T.Name.apply(lambda n: str(n).split('_HUMAN')[0])\n",
    "\n",
    "altered_proteins_T = tstats_T.loc[altered_T.index].sort_values('log2(T1)-log2(T2)',\n",
    "                        ascending=False)[['pvalue','log2(T1)-log2(T2)','Name','GeneID']]\n",
    "higher_in_T_June = altered_proteins_T.loc[altered_proteins_T['log2(T1)-log2(T2)'] >0]\n",
    "higher_in_T_July = altered_proteins_T.loc[altered_proteins_T['log2(T1)-log2(T2)'] <0]\n",
    "\n",
    "#To write out to a file, use:\n",
    "#altered_proteins.to_csv('data/filename.tsv', sep='\\t')"
   ]
  },
  {
   "cell_type": "markdown",
   "metadata": {},
   "source": [
    "### Proteins Higher in B Cells in June:"
   ]
  },
  {
   "cell_type": "code",
   "execution_count": 23,
   "metadata": {},
   "outputs": [
    {
     "data": {
      "text/html": [
       "<div>\n",
       "<style scoped>\n",
       "    .dataframe tbody tr th:only-of-type {\n",
       "        vertical-align: middle;\n",
       "    }\n",
       "\n",
       "    .dataframe tbody tr th {\n",
       "        vertical-align: top;\n",
       "    }\n",
       "\n",
       "    .dataframe thead th {\n",
       "        text-align: right;\n",
       "    }\n",
       "</style>\n",
       "<table border=\"1\" class=\"dataframe\">\n",
       "  <thead>\n",
       "    <tr style=\"text-align: right;\">\n",
       "      <th></th>\n",
       "      <th>pvalue</th>\n",
       "      <th>log2(B1)-log2(B2)</th>\n",
       "      <th>Name</th>\n",
       "      <th>GeneID</th>\n",
       "    </tr>\n",
       "    <tr>\n",
       "      <th>Protein ID</th>\n",
       "      <th></th>\n",
       "      <th></th>\n",
       "      <th></th>\n",
       "      <th></th>\n",
       "    </tr>\n",
       "  </thead>\n",
       "  <tbody>\n",
       "    <tr>\n",
       "      <th>Q96KP4</th>\n",
       "      <td>0.003078</td>\n",
       "      <td>0.232209</td>\n",
       "      <td>CNDP2_HUMAN Cytosolic non-specific dipeptidase</td>\n",
       "      <td>CNDP2</td>\n",
       "    </tr>\n",
       "    <tr>\n",
       "      <th>P20700</th>\n",
       "      <td>0.005503</td>\n",
       "      <td>0.236350</td>\n",
       "      <td>LMNB1_HUMAN Lamin-B1</td>\n",
       "      <td>LMNB1</td>\n",
       "    </tr>\n",
       "    <tr>\n",
       "      <th>P27348</th>\n",
       "      <td>0.004976</td>\n",
       "      <td>0.238222</td>\n",
       "      <td>1433T_HUMAN 14-3-3 protein theta</td>\n",
       "      <td>1433T</td>\n",
       "    </tr>\n",
       "    <tr>\n",
       "      <th>Q01518</th>\n",
       "      <td>0.009793</td>\n",
       "      <td>0.245295</td>\n",
       "      <td>CAP1_HUMAN Adenylyl cyclase-associated protein 1</td>\n",
       "      <td>CAP1</td>\n",
       "    </tr>\n",
       "    <tr>\n",
       "      <th>P78371</th>\n",
       "      <td>0.004888</td>\n",
       "      <td>0.245328</td>\n",
       "      <td>TCPB_HUMAN T-complex protein 1 subunit beta</td>\n",
       "      <td>TCPB</td>\n",
       "    </tr>\n",
       "  </tbody>\n",
       "</table>\n",
       "</div>"
      ],
      "text/plain": [
       "              pvalue  log2(B1)-log2(B2)  \\\n",
       "Protein ID                                \n",
       "Q96KP4      0.003078           0.232209   \n",
       "P20700      0.005503           0.236350   \n",
       "P27348      0.004976           0.238222   \n",
       "Q01518      0.009793           0.245295   \n",
       "P78371      0.004888           0.245328   \n",
       "\n",
       "                                                         Name GeneID  \n",
       "Protein ID                                                            \n",
       "Q96KP4        CNDP2_HUMAN Cytosolic non-specific dipeptidase   CNDP2  \n",
       "P20700                                  LMNB1_HUMAN Lamin-B1   LMNB1  \n",
       "P27348                      1433T_HUMAN 14-3-3 protein theta   1433T  \n",
       "Q01518      CAP1_HUMAN Adenylyl cyclase-associated protein 1    CAP1  \n",
       "P78371           TCPB_HUMAN T-complex protein 1 subunit beta    TCPB  "
      ]
     },
     "execution_count": 23,
     "metadata": {},
     "output_type": "execute_result"
    }
   ],
   "source": [
    "higher_in_B_June.sort_values('log2(B1)-log2(B2)',ascending=True).head()"
   ]
  },
  {
   "cell_type": "markdown",
   "metadata": {},
   "source": [
    "### Proteins Higher in B Cells in July:"
   ]
  },
  {
   "cell_type": "code",
   "execution_count": 24,
   "metadata": {},
   "outputs": [
    {
     "data": {
      "text/html": [
       "<div>\n",
       "<style scoped>\n",
       "    .dataframe tbody tr th:only-of-type {\n",
       "        vertical-align: middle;\n",
       "    }\n",
       "\n",
       "    .dataframe tbody tr th {\n",
       "        vertical-align: top;\n",
       "    }\n",
       "\n",
       "    .dataframe thead th {\n",
       "        text-align: right;\n",
       "    }\n",
       "</style>\n",
       "<table border=\"1\" class=\"dataframe\">\n",
       "  <thead>\n",
       "    <tr style=\"text-align: right;\">\n",
       "      <th></th>\n",
       "      <th>pvalue</th>\n",
       "      <th>log2(B1)-log2(B2)</th>\n",
       "      <th>Name</th>\n",
       "      <th>GeneID</th>\n",
       "    </tr>\n",
       "    <tr>\n",
       "      <th>Protein ID</th>\n",
       "      <th></th>\n",
       "      <th></th>\n",
       "      <th></th>\n",
       "      <th></th>\n",
       "    </tr>\n",
       "  </thead>\n",
       "  <tbody>\n",
       "    <tr>\n",
       "      <th>P26368</th>\n",
       "      <td>0.003981</td>\n",
       "      <td>-1.422720</td>\n",
       "      <td>U2AF2_HUMAN Splicing factor U2AF 65 kDa subunit</td>\n",
       "      <td>U2AF2</td>\n",
       "    </tr>\n",
       "    <tr>\n",
       "      <th>P69891</th>\n",
       "      <td>0.001078</td>\n",
       "      <td>-1.112155</td>\n",
       "      <td>HBG1_HUMAN Hemoglobin subunit gamma-1</td>\n",
       "      <td>HBG1</td>\n",
       "    </tr>\n",
       "    <tr>\n",
       "      <th>P69892</th>\n",
       "      <td>0.001077</td>\n",
       "      <td>-1.112144</td>\n",
       "      <td>HBG2_HUMAN Hemoglobin subunit gamma-2</td>\n",
       "      <td>HBG2</td>\n",
       "    </tr>\n",
       "    <tr>\n",
       "      <th>P26447</th>\n",
       "      <td>0.001585</td>\n",
       "      <td>-1.009301</td>\n",
       "      <td>10A4_HUMAN Protein S100-A4</td>\n",
       "      <td>10A4</td>\n",
       "    </tr>\n",
       "    <tr>\n",
       "      <th>P09382</th>\n",
       "      <td>0.000468</td>\n",
       "      <td>-0.980316</td>\n",
       "      <td>LEG1_HUMAN Galectin-1</td>\n",
       "      <td>LEG1</td>\n",
       "    </tr>\n",
       "  </tbody>\n",
       "</table>\n",
       "</div>"
      ],
      "text/plain": [
       "              pvalue  log2(B1)-log2(B2)  \\\n",
       "Protein ID                                \n",
       "P26368      0.003981          -1.422720   \n",
       "P69891      0.001078          -1.112155   \n",
       "P69892      0.001077          -1.112144   \n",
       "P26447      0.001585          -1.009301   \n",
       "P09382      0.000468          -0.980316   \n",
       "\n",
       "                                                        Name GeneID  \n",
       "Protein ID                                                           \n",
       "P26368      U2AF2_HUMAN Splicing factor U2AF 65 kDa subunit   U2AF2  \n",
       "P69891                HBG1_HUMAN Hemoglobin subunit gamma-1    HBG1  \n",
       "P69892                HBG2_HUMAN Hemoglobin subunit gamma-2    HBG2  \n",
       "P26447                           10A4_HUMAN Protein S100-A4    10A4  \n",
       "P09382                                LEG1_HUMAN Galectin-1    LEG1  "
      ]
     },
     "execution_count": 24,
     "metadata": {},
     "output_type": "execute_result"
    }
   ],
   "source": [
    "higher_in_B_July.sort_values('log2(B1)-log2(B2)',ascending=True).head()"
   ]
  },
  {
   "cell_type": "markdown",
   "metadata": {},
   "source": [
    "### Proteins Higher in June in T Cells:"
   ]
  },
  {
   "cell_type": "code",
   "execution_count": 25,
   "metadata": {
    "scrolled": false
   },
   "outputs": [
    {
     "data": {
      "text/html": [
       "<div>\n",
       "<style scoped>\n",
       "    .dataframe tbody tr th:only-of-type {\n",
       "        vertical-align: middle;\n",
       "    }\n",
       "\n",
       "    .dataframe tbody tr th {\n",
       "        vertical-align: top;\n",
       "    }\n",
       "\n",
       "    .dataframe thead th {\n",
       "        text-align: right;\n",
       "    }\n",
       "</style>\n",
       "<table border=\"1\" class=\"dataframe\">\n",
       "  <thead>\n",
       "    <tr style=\"text-align: right;\">\n",
       "      <th></th>\n",
       "      <th>pvalue</th>\n",
       "      <th>log2(T1)-log2(T2)</th>\n",
       "      <th>Name</th>\n",
       "      <th>GeneID</th>\n",
       "    </tr>\n",
       "    <tr>\n",
       "      <th>Protein ID</th>\n",
       "      <th></th>\n",
       "      <th></th>\n",
       "      <th></th>\n",
       "      <th></th>\n",
       "    </tr>\n",
       "  </thead>\n",
       "  <tbody>\n",
       "    <tr>\n",
       "      <th>Q01518</th>\n",
       "      <td>0.005756</td>\n",
       "      <td>0.178862</td>\n",
       "      <td>CAP1_HUMAN Adenylyl cyclase-associated protein 1</td>\n",
       "      <td>CAP1</td>\n",
       "    </tr>\n",
       "    <tr>\n",
       "      <th>P23246</th>\n",
       "      <td>0.004755</td>\n",
       "      <td>0.201199</td>\n",
       "      <td>FPQ_HUMAN Splicing factor, proline- and glutam...</td>\n",
       "      <td>FPQ</td>\n",
       "    </tr>\n",
       "    <tr>\n",
       "      <th>P31146</th>\n",
       "      <td>0.003668</td>\n",
       "      <td>0.222737</td>\n",
       "      <td>COR1A_HUMAN Coronin-1A</td>\n",
       "      <td>COR1A</td>\n",
       "    </tr>\n",
       "    <tr>\n",
       "      <th>P10412</th>\n",
       "      <td>0.008323</td>\n",
       "      <td>0.232036</td>\n",
       "      <td>H14_HUMAN Histone H1.4</td>\n",
       "      <td>H14</td>\n",
       "    </tr>\n",
       "    <tr>\n",
       "      <th>P22626</th>\n",
       "      <td>0.003077</td>\n",
       "      <td>0.257690</td>\n",
       "      <td>ROA2_HUMAN Heterogeneous nuclear ribonucleopro...</td>\n",
       "      <td>ROA2</td>\n",
       "    </tr>\n",
       "  </tbody>\n",
       "</table>\n",
       "</div>"
      ],
      "text/plain": [
       "              pvalue  log2(T1)-log2(T2)  \\\n",
       "Protein ID                                \n",
       "Q01518      0.005756           0.178862   \n",
       "P23246      0.004755           0.201199   \n",
       "P31146      0.003668           0.222737   \n",
       "P10412      0.008323           0.232036   \n",
       "P22626      0.003077           0.257690   \n",
       "\n",
       "                                                         Name GeneID  \n",
       "Protein ID                                                            \n",
       "Q01518      CAP1_HUMAN Adenylyl cyclase-associated protein 1    CAP1  \n",
       "P23246      FPQ_HUMAN Splicing factor, proline- and glutam...    FPQ  \n",
       "P31146                                COR1A_HUMAN Coronin-1A   COR1A  \n",
       "P10412                                H14_HUMAN Histone H1.4     H14  \n",
       "P22626      ROA2_HUMAN Heterogeneous nuclear ribonucleopro...   ROA2  "
      ]
     },
     "execution_count": 25,
     "metadata": {},
     "output_type": "execute_result"
    }
   ],
   "source": [
    "higher_in_T_June.sort_values('log2(T1)-log2(T2)',ascending=True).head()"
   ]
  },
  {
   "cell_type": "markdown",
   "metadata": {},
   "source": [
    "### Proteins Higher in June in T Cells:"
   ]
  },
  {
   "cell_type": "code",
   "execution_count": 26,
   "metadata": {},
   "outputs": [
    {
     "data": {
      "text/html": [
       "<div>\n",
       "<style scoped>\n",
       "    .dataframe tbody tr th:only-of-type {\n",
       "        vertical-align: middle;\n",
       "    }\n",
       "\n",
       "    .dataframe tbody tr th {\n",
       "        vertical-align: top;\n",
       "    }\n",
       "\n",
       "    .dataframe thead th {\n",
       "        text-align: right;\n",
       "    }\n",
       "</style>\n",
       "<table border=\"1\" class=\"dataframe\">\n",
       "  <thead>\n",
       "    <tr style=\"text-align: right;\">\n",
       "      <th></th>\n",
       "      <th>pvalue</th>\n",
       "      <th>log2(T1)-log2(T2)</th>\n",
       "      <th>Name</th>\n",
       "      <th>GeneID</th>\n",
       "    </tr>\n",
       "    <tr>\n",
       "      <th>Protein ID</th>\n",
       "      <th></th>\n",
       "      <th></th>\n",
       "      <th></th>\n",
       "      <th></th>\n",
       "    </tr>\n",
       "  </thead>\n",
       "  <tbody>\n",
       "    <tr>\n",
       "      <th>P68871</th>\n",
       "      <td>9.747993e-07</td>\n",
       "      <td>-1.302454</td>\n",
       "      <td>HBB_HUMAN Hemoglobin subunit beta</td>\n",
       "      <td>HBB</td>\n",
       "    </tr>\n",
       "    <tr>\n",
       "      <th>P00761</th>\n",
       "      <td>4.650775e-04</td>\n",
       "      <td>-1.238223</td>\n",
       "      <td>NaN</td>\n",
       "      <td>nan</td>\n",
       "    </tr>\n",
       "    <tr>\n",
       "      <th>Q00013</th>\n",
       "      <td>8.469257e-04</td>\n",
       "      <td>-1.165466</td>\n",
       "      <td>EM55_HUMAN 55 kDa erythrocyte membrane protein</td>\n",
       "      <td>EM55</td>\n",
       "    </tr>\n",
       "    <tr>\n",
       "      <th>P02042</th>\n",
       "      <td>8.127019e-08</td>\n",
       "      <td>-1.153784</td>\n",
       "      <td>HBD_HUMAN Hemoglobin subunit delta</td>\n",
       "      <td>HBD</td>\n",
       "    </tr>\n",
       "    <tr>\n",
       "      <th>P30043</th>\n",
       "      <td>3.107636e-07</td>\n",
       "      <td>-1.104348</td>\n",
       "      <td>BLVRB_HUMAN Flavin reductase (NADPH)</td>\n",
       "      <td>BLVRB</td>\n",
       "    </tr>\n",
       "  </tbody>\n",
       "</table>\n",
       "</div>"
      ],
      "text/plain": [
       "                  pvalue  log2(T1)-log2(T2)  \\\n",
       "Protein ID                                    \n",
       "P68871      9.747993e-07          -1.302454   \n",
       "P00761      4.650775e-04          -1.238223   \n",
       "Q00013      8.469257e-04          -1.165466   \n",
       "P02042      8.127019e-08          -1.153784   \n",
       "P30043      3.107636e-07          -1.104348   \n",
       "\n",
       "                                                       Name GeneID  \n",
       "Protein ID                                                          \n",
       "P68871                   HBB_HUMAN Hemoglobin subunit beta     HBB  \n",
       "P00761                                                  NaN    nan  \n",
       "Q00013      EM55_HUMAN 55 kDa erythrocyte membrane protein    EM55  \n",
       "P02042                  HBD_HUMAN Hemoglobin subunit delta     HBD  \n",
       "P30043                BLVRB_HUMAN Flavin reductase (NADPH)   BLVRB  "
      ]
     },
     "execution_count": 26,
     "metadata": {},
     "output_type": "execute_result"
    }
   ],
   "source": [
    "higher_in_T_July.sort_values('log2(T1)-log2(T2)',ascending=True).head()"
   ]
  },
  {
   "cell_type": "code",
   "execution_count": null,
   "metadata": {},
   "outputs": [],
   "source": []
  }
 ],
 "metadata": {
  "kernelspec": {
   "display_name": "Python 3",
   "language": "python",
   "name": "python3"
  },
  "language_info": {
   "codemirror_mode": {
    "name": "ipython",
    "version": 3
   },
   "file_extension": ".py",
   "mimetype": "text/x-python",
   "name": "python",
   "nbconvert_exporter": "python",
   "pygments_lexer": "ipython3",
   "version": "3.8.3"
  }
 },
 "nbformat": 4,
 "nbformat_minor": 2
}
