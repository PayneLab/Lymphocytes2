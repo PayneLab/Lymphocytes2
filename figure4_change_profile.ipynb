{
 "cells": [
  {
   "cell_type": "markdown",
   "metadata": {},
   "source": [
    "## B cells in two subjects\n",
    "The data used in this notebook is lymphocyte data for two patients' B cells. Here, we note presence/absense changes and quantify fold changes using a T test.\n"
   ]
  },
  {
   "cell_type": "markdown",
   "metadata": {},
   "source": [
    "First, we import our loader module. This brings the functions defined there (in our repository at ~/load_data.py) into scope so we can use them in this script. Then we can load our data and store it as <code>data</code>.\n",
    "\n",
    "Calling <code>head</code> shows the first several lines of the dataframe, which provides an idea of the type of data present and the structure of the dataframe."
   ]
  },
  {
   "cell_type": "code",
   "execution_count": 1,
   "metadata": {},
   "outputs": [
    {
     "data": {
      "text/html": [
       "<div>\n",
       "<style scoped>\n",
       "    .dataframe tbody tr th:only-of-type {\n",
       "        vertical-align: middle;\n",
       "    }\n",
       "\n",
       "    .dataframe tbody tr th {\n",
       "        vertical-align: top;\n",
       "    }\n",
       "\n",
       "    .dataframe thead th {\n",
       "        text-align: right;\n",
       "    }\n",
       "</style>\n",
       "<table border=\"1\" class=\"dataframe\">\n",
       "  <thead>\n",
       "    <tr style=\"text-align: right;\">\n",
       "      <th></th>\n",
       "      <th>Blank_3</th>\n",
       "      <th>Blank_4</th>\n",
       "      <th>Blank_5</th>\n",
       "      <th>Subject1_B_cells_062920_C_10</th>\n",
       "      <th>Subject1_B_cells_062920_C_11</th>\n",
       "      <th>Subject1_B_cells_062920_C_12</th>\n",
       "      <th>Subject1_B_cells_062920_C_13</th>\n",
       "      <th>Subject1_B_cells_062920_C_9</th>\n",
       "      <th>Subject1_B_cells_072920_C_4</th>\n",
       "      <th>Subject1_B_cells_072920_C_5</th>\n",
       "      <th>...</th>\n",
       "      <th>Subject2_T_cells_062920_F_12</th>\n",
       "      <th>Subject2_T_cells_062920_F_13</th>\n",
       "      <th>Subject2_T_cells_062920_F_14</th>\n",
       "      <th>Subject2_T_cells_062920_F_9</th>\n",
       "      <th>Subject2_T_cells_072920_F_1</th>\n",
       "      <th>Subject2_T_cells_072920_F_3</th>\n",
       "      <th>Subject2_T_cells_072920_F_4</th>\n",
       "      <th>Subject2_T_cells_072920_F_5</th>\n",
       "      <th>Subject2_T_cells_072920_F_6</th>\n",
       "      <th>Subject2_T_cells_072920_F_8</th>\n",
       "    </tr>\n",
       "    <tr>\n",
       "      <th>Protein ID</th>\n",
       "      <th></th>\n",
       "      <th></th>\n",
       "      <th></th>\n",
       "      <th></th>\n",
       "      <th></th>\n",
       "      <th></th>\n",
       "      <th></th>\n",
       "      <th></th>\n",
       "      <th></th>\n",
       "      <th></th>\n",
       "      <th></th>\n",
       "      <th></th>\n",
       "      <th></th>\n",
       "      <th></th>\n",
       "      <th></th>\n",
       "      <th></th>\n",
       "      <th></th>\n",
       "      <th></th>\n",
       "      <th></th>\n",
       "      <th></th>\n",
       "      <th></th>\n",
       "    </tr>\n",
       "  </thead>\n",
       "  <tbody>\n",
       "    <tr>\n",
       "      <th>A0A0B4J2D5</th>\n",
       "      <td>0.0</td>\n",
       "      <td>0.0</td>\n",
       "      <td>0.0</td>\n",
       "      <td>3203277.5</td>\n",
       "      <td>4697996.0</td>\n",
       "      <td>7346776.5</td>\n",
       "      <td>8472867.0</td>\n",
       "      <td>4280919.5</td>\n",
       "      <td>0.0</td>\n",
       "      <td>4787781.50</td>\n",
       "      <td>...</td>\n",
       "      <td>0.0</td>\n",
       "      <td>4905873.00</td>\n",
       "      <td>0.0</td>\n",
       "      <td>3405266.0</td>\n",
       "      <td>4656720.00</td>\n",
       "      <td>1673629.9</td>\n",
       "      <td>6060600.5</td>\n",
       "      <td>2407679.5</td>\n",
       "      <td>7791855.0</td>\n",
       "      <td>5542659.50</td>\n",
       "    </tr>\n",
       "    <tr>\n",
       "      <th>A0AVT1</th>\n",
       "      <td>0.0</td>\n",
       "      <td>0.0</td>\n",
       "      <td>0.0</td>\n",
       "      <td>1917388.2</td>\n",
       "      <td>3033529.2</td>\n",
       "      <td>3773018.8</td>\n",
       "      <td>1865758.6</td>\n",
       "      <td>5191332.5</td>\n",
       "      <td>3332031.5</td>\n",
       "      <td>2464089.00</td>\n",
       "      <td>...</td>\n",
       "      <td>1091121.4</td>\n",
       "      <td>630647.25</td>\n",
       "      <td>576871.9</td>\n",
       "      <td>0.0</td>\n",
       "      <td>0.00</td>\n",
       "      <td>0.0</td>\n",
       "      <td>0.0</td>\n",
       "      <td>827356.1</td>\n",
       "      <td>1260652.0</td>\n",
       "      <td>0.00</td>\n",
       "    </tr>\n",
       "    <tr>\n",
       "      <th>A0FGR8</th>\n",
       "      <td>0.0</td>\n",
       "      <td>0.0</td>\n",
       "      <td>0.0</td>\n",
       "      <td>0.0</td>\n",
       "      <td>0.0</td>\n",
       "      <td>0.0</td>\n",
       "      <td>0.0</td>\n",
       "      <td>0.0</td>\n",
       "      <td>0.0</td>\n",
       "      <td>0.00</td>\n",
       "      <td>...</td>\n",
       "      <td>1514363.4</td>\n",
       "      <td>866311.94</td>\n",
       "      <td>0.0</td>\n",
       "      <td>0.0</td>\n",
       "      <td>0.00</td>\n",
       "      <td>0.0</td>\n",
       "      <td>0.0</td>\n",
       "      <td>0.0</td>\n",
       "      <td>653698.6</td>\n",
       "      <td>879074.56</td>\n",
       "    </tr>\n",
       "    <tr>\n",
       "      <th>A6NHR9</th>\n",
       "      <td>0.0</td>\n",
       "      <td>0.0</td>\n",
       "      <td>0.0</td>\n",
       "      <td>2650513.5</td>\n",
       "      <td>0.0</td>\n",
       "      <td>3788095.8</td>\n",
       "      <td>0.0</td>\n",
       "      <td>0.0</td>\n",
       "      <td>1845555.5</td>\n",
       "      <td>933499.44</td>\n",
       "      <td>...</td>\n",
       "      <td>0.0</td>\n",
       "      <td>0.00</td>\n",
       "      <td>0.0</td>\n",
       "      <td>0.0</td>\n",
       "      <td>430484.97</td>\n",
       "      <td>0.0</td>\n",
       "      <td>0.0</td>\n",
       "      <td>0.0</td>\n",
       "      <td>538303.6</td>\n",
       "      <td>948190.40</td>\n",
       "    </tr>\n",
       "    <tr>\n",
       "      <th>A8K2U0</th>\n",
       "      <td>0.0</td>\n",
       "      <td>0.0</td>\n",
       "      <td>0.0</td>\n",
       "      <td>0.0</td>\n",
       "      <td>0.0</td>\n",
       "      <td>0.0</td>\n",
       "      <td>1149867.8</td>\n",
       "      <td>0.0</td>\n",
       "      <td>0.0</td>\n",
       "      <td>0.00</td>\n",
       "      <td>...</td>\n",
       "      <td>0.0</td>\n",
       "      <td>0.00</td>\n",
       "      <td>0.0</td>\n",
       "      <td>0.0</td>\n",
       "      <td>0.00</td>\n",
       "      <td>0.0</td>\n",
       "      <td>0.0</td>\n",
       "      <td>0.0</td>\n",
       "      <td>0.0</td>\n",
       "      <td>0.00</td>\n",
       "    </tr>\n",
       "    <tr>\n",
       "      <th>...</th>\n",
       "      <td>...</td>\n",
       "      <td>...</td>\n",
       "      <td>...</td>\n",
       "      <td>...</td>\n",
       "      <td>...</td>\n",
       "      <td>...</td>\n",
       "      <td>...</td>\n",
       "      <td>...</td>\n",
       "      <td>...</td>\n",
       "      <td>...</td>\n",
       "      <td>...</td>\n",
       "      <td>...</td>\n",
       "      <td>...</td>\n",
       "      <td>...</td>\n",
       "      <td>...</td>\n",
       "      <td>...</td>\n",
       "      <td>...</td>\n",
       "      <td>...</td>\n",
       "      <td>...</td>\n",
       "      <td>...</td>\n",
       "      <td>...</td>\n",
       "    </tr>\n",
       "    <tr>\n",
       "      <th>O15068</th>\n",
       "      <td>0.0</td>\n",
       "      <td>0.0</td>\n",
       "      <td>0.0</td>\n",
       "      <td>0.0</td>\n",
       "      <td>0.0</td>\n",
       "      <td>0.0</td>\n",
       "      <td>0.0</td>\n",
       "      <td>0.0</td>\n",
       "      <td>0.0</td>\n",
       "      <td>0.00</td>\n",
       "      <td>...</td>\n",
       "      <td>0.0</td>\n",
       "      <td>0.00</td>\n",
       "      <td>0.0</td>\n",
       "      <td>0.0</td>\n",
       "      <td>0.00</td>\n",
       "      <td>0.0</td>\n",
       "      <td>0.0</td>\n",
       "      <td>0.0</td>\n",
       "      <td>0.0</td>\n",
       "      <td>0.00</td>\n",
       "    </tr>\n",
       "    <tr>\n",
       "      <th>Q14C86</th>\n",
       "      <td>0.0</td>\n",
       "      <td>0.0</td>\n",
       "      <td>0.0</td>\n",
       "      <td>0.0</td>\n",
       "      <td>0.0</td>\n",
       "      <td>1139333.0</td>\n",
       "      <td>0.0</td>\n",
       "      <td>0.0</td>\n",
       "      <td>0.0</td>\n",
       "      <td>0.00</td>\n",
       "      <td>...</td>\n",
       "      <td>0.0</td>\n",
       "      <td>0.00</td>\n",
       "      <td>0.0</td>\n",
       "      <td>0.0</td>\n",
       "      <td>0.00</td>\n",
       "      <td>0.0</td>\n",
       "      <td>0.0</td>\n",
       "      <td>0.0</td>\n",
       "      <td>1029046.4</td>\n",
       "      <td>0.00</td>\n",
       "    </tr>\n",
       "    <tr>\n",
       "      <th>Q8N4T8</th>\n",
       "      <td>0.0</td>\n",
       "      <td>0.0</td>\n",
       "      <td>0.0</td>\n",
       "      <td>0.0</td>\n",
       "      <td>0.0</td>\n",
       "      <td>0.0</td>\n",
       "      <td>0.0</td>\n",
       "      <td>0.0</td>\n",
       "      <td>0.0</td>\n",
       "      <td>0.00</td>\n",
       "      <td>...</td>\n",
       "      <td>0.0</td>\n",
       "      <td>0.00</td>\n",
       "      <td>0.0</td>\n",
       "      <td>0.0</td>\n",
       "      <td>0.00</td>\n",
       "      <td>0.0</td>\n",
       "      <td>0.0</td>\n",
       "      <td>0.0</td>\n",
       "      <td>0.0</td>\n",
       "      <td>0.00</td>\n",
       "    </tr>\n",
       "    <tr>\n",
       "      <th>Q8IW45</th>\n",
       "      <td>0.0</td>\n",
       "      <td>0.0</td>\n",
       "      <td>0.0</td>\n",
       "      <td>0.0</td>\n",
       "      <td>0.0</td>\n",
       "      <td>0.0</td>\n",
       "      <td>0.0</td>\n",
       "      <td>0.0</td>\n",
       "      <td>0.0</td>\n",
       "      <td>0.00</td>\n",
       "      <td>...</td>\n",
       "      <td>0.0</td>\n",
       "      <td>0.00</td>\n",
       "      <td>0.0</td>\n",
       "      <td>0.0</td>\n",
       "      <td>0.00</td>\n",
       "      <td>0.0</td>\n",
       "      <td>0.0</td>\n",
       "      <td>0.0</td>\n",
       "      <td>0.0</td>\n",
       "      <td>0.00</td>\n",
       "    </tr>\n",
       "    <tr>\n",
       "      <th>Q96PP8</th>\n",
       "      <td>0.0</td>\n",
       "      <td>0.0</td>\n",
       "      <td>0.0</td>\n",
       "      <td>0.0</td>\n",
       "      <td>0.0</td>\n",
       "      <td>0.0</td>\n",
       "      <td>0.0</td>\n",
       "      <td>0.0</td>\n",
       "      <td>0.0</td>\n",
       "      <td>0.00</td>\n",
       "      <td>...</td>\n",
       "      <td>2672994.5</td>\n",
       "      <td>0.00</td>\n",
       "      <td>1829618.0</td>\n",
       "      <td>0.0</td>\n",
       "      <td>0.00</td>\n",
       "      <td>0.0</td>\n",
       "      <td>0.0</td>\n",
       "      <td>0.0</td>\n",
       "      <td>0.0</td>\n",
       "      <td>0.00</td>\n",
       "    </tr>\n",
       "  </tbody>\n",
       "</table>\n",
       "<p>2426 rows × 46 columns</p>\n",
       "</div>"
      ],
      "text/plain": [
       "            Blank_3  Blank_4  Blank_5  Subject1_B_cells_062920_C_10  \\\n",
       "Protein ID                                                            \n",
       "A0A0B4J2D5      0.0      0.0      0.0                     3203277.5   \n",
       "A0AVT1          0.0      0.0      0.0                     1917388.2   \n",
       "A0FGR8          0.0      0.0      0.0                           0.0   \n",
       "A6NHR9          0.0      0.0      0.0                     2650513.5   \n",
       "A8K2U0          0.0      0.0      0.0                           0.0   \n",
       "...             ...      ...      ...                           ...   \n",
       "O15068          0.0      0.0      0.0                           0.0   \n",
       "Q14C86          0.0      0.0      0.0                           0.0   \n",
       "Q8N4T8          0.0      0.0      0.0                           0.0   \n",
       "Q8IW45          0.0      0.0      0.0                           0.0   \n",
       "Q96PP8          0.0      0.0      0.0                           0.0   \n",
       "\n",
       "            Subject1_B_cells_062920_C_11  Subject1_B_cells_062920_C_12  \\\n",
       "Protein ID                                                               \n",
       "A0A0B4J2D5                     4697996.0                     7346776.5   \n",
       "A0AVT1                         3033529.2                     3773018.8   \n",
       "A0FGR8                               0.0                           0.0   \n",
       "A6NHR9                               0.0                     3788095.8   \n",
       "A8K2U0                               0.0                           0.0   \n",
       "...                                  ...                           ...   \n",
       "O15068                               0.0                           0.0   \n",
       "Q14C86                               0.0                     1139333.0   \n",
       "Q8N4T8                               0.0                           0.0   \n",
       "Q8IW45                               0.0                           0.0   \n",
       "Q96PP8                               0.0                           0.0   \n",
       "\n",
       "            Subject1_B_cells_062920_C_13  Subject1_B_cells_062920_C_9  \\\n",
       "Protein ID                                                              \n",
       "A0A0B4J2D5                     8472867.0                    4280919.5   \n",
       "A0AVT1                         1865758.6                    5191332.5   \n",
       "A0FGR8                               0.0                          0.0   \n",
       "A6NHR9                               0.0                          0.0   \n",
       "A8K2U0                         1149867.8                          0.0   \n",
       "...                                  ...                          ...   \n",
       "O15068                               0.0                          0.0   \n",
       "Q14C86                               0.0                          0.0   \n",
       "Q8N4T8                               0.0                          0.0   \n",
       "Q8IW45                               0.0                          0.0   \n",
       "Q96PP8                               0.0                          0.0   \n",
       "\n",
       "            Subject1_B_cells_072920_C_4  Subject1_B_cells_072920_C_5  ...  \\\n",
       "Protein ID                                                            ...   \n",
       "A0A0B4J2D5                          0.0                   4787781.50  ...   \n",
       "A0AVT1                        3332031.5                   2464089.00  ...   \n",
       "A0FGR8                              0.0                         0.00  ...   \n",
       "A6NHR9                        1845555.5                    933499.44  ...   \n",
       "A8K2U0                              0.0                         0.00  ...   \n",
       "...                                 ...                          ...  ...   \n",
       "O15068                              0.0                         0.00  ...   \n",
       "Q14C86                              0.0                         0.00  ...   \n",
       "Q8N4T8                              0.0                         0.00  ...   \n",
       "Q8IW45                              0.0                         0.00  ...   \n",
       "Q96PP8                              0.0                         0.00  ...   \n",
       "\n",
       "            Subject2_T_cells_062920_F_12  Subject2_T_cells_062920_F_13  \\\n",
       "Protein ID                                                               \n",
       "A0A0B4J2D5                           0.0                    4905873.00   \n",
       "A0AVT1                         1091121.4                     630647.25   \n",
       "A0FGR8                         1514363.4                     866311.94   \n",
       "A6NHR9                               0.0                          0.00   \n",
       "A8K2U0                               0.0                          0.00   \n",
       "...                                  ...                           ...   \n",
       "O15068                               0.0                          0.00   \n",
       "Q14C86                               0.0                          0.00   \n",
       "Q8N4T8                               0.0                          0.00   \n",
       "Q8IW45                               0.0                          0.00   \n",
       "Q96PP8                         2672994.5                          0.00   \n",
       "\n",
       "            Subject2_T_cells_062920_F_14  Subject2_T_cells_062920_F_9  \\\n",
       "Protein ID                                                              \n",
       "A0A0B4J2D5                           0.0                    3405266.0   \n",
       "A0AVT1                          576871.9                          0.0   \n",
       "A0FGR8                               0.0                          0.0   \n",
       "A6NHR9                               0.0                          0.0   \n",
       "A8K2U0                               0.0                          0.0   \n",
       "...                                  ...                          ...   \n",
       "O15068                               0.0                          0.0   \n",
       "Q14C86                               0.0                          0.0   \n",
       "Q8N4T8                               0.0                          0.0   \n",
       "Q8IW45                               0.0                          0.0   \n",
       "Q96PP8                         1829618.0                          0.0   \n",
       "\n",
       "            Subject2_T_cells_072920_F_1  Subject2_T_cells_072920_F_3  \\\n",
       "Protein ID                                                             \n",
       "A0A0B4J2D5                   4656720.00                    1673629.9   \n",
       "A0AVT1                             0.00                          0.0   \n",
       "A0FGR8                             0.00                          0.0   \n",
       "A6NHR9                        430484.97                          0.0   \n",
       "A8K2U0                             0.00                          0.0   \n",
       "...                                 ...                          ...   \n",
       "O15068                             0.00                          0.0   \n",
       "Q14C86                             0.00                          0.0   \n",
       "Q8N4T8                             0.00                          0.0   \n",
       "Q8IW45                             0.00                          0.0   \n",
       "Q96PP8                             0.00                          0.0   \n",
       "\n",
       "            Subject2_T_cells_072920_F_4  Subject2_T_cells_072920_F_5  \\\n",
       "Protein ID                                                             \n",
       "A0A0B4J2D5                    6060600.5                    2407679.5   \n",
       "A0AVT1                              0.0                     827356.1   \n",
       "A0FGR8                              0.0                          0.0   \n",
       "A6NHR9                              0.0                          0.0   \n",
       "A8K2U0                              0.0                          0.0   \n",
       "...                                 ...                          ...   \n",
       "O15068                              0.0                          0.0   \n",
       "Q14C86                              0.0                          0.0   \n",
       "Q8N4T8                              0.0                          0.0   \n",
       "Q8IW45                              0.0                          0.0   \n",
       "Q96PP8                              0.0                          0.0   \n",
       "\n",
       "            Subject2_T_cells_072920_F_6  Subject2_T_cells_072920_F_8  \n",
       "Protein ID                                                            \n",
       "A0A0B4J2D5                    7791855.0                   5542659.50  \n",
       "A0AVT1                        1260652.0                         0.00  \n",
       "A0FGR8                         653698.6                    879074.56  \n",
       "A6NHR9                         538303.6                    948190.40  \n",
       "A8K2U0                              0.0                         0.00  \n",
       "...                                 ...                          ...  \n",
       "O15068                              0.0                         0.00  \n",
       "Q14C86                        1029046.4                         0.00  \n",
       "Q8N4T8                              0.0                         0.00  \n",
       "Q8IW45                              0.0                         0.00  \n",
       "Q96PP8                              0.0                         0.00  \n",
       "\n",
       "[2426 rows x 46 columns]"
      ]
     },
     "execution_count": 1,
     "metadata": {},
     "output_type": "execute_result"
    }
   ],
   "source": [
    "import load_data\n",
    "import pandas as pd\n",
    "data_raw = load_data.load_FragPipe(version='July_noMBR_FP', contains=[])\n",
    "\n",
    "data_raw"
   ]
  },
  {
   "cell_type": "markdown",
   "metadata": {},
   "source": [
    "These are some methods that check if a value was measured or not and if the protein was measured in each type."
   ]
  },
  {
   "cell_type": "code",
   "execution_count": 2,
   "metadata": {},
   "outputs": [],
   "source": [
    "import data_utils\n",
    "from numpy import nan\n",
    "from numpy import log2\n",
    "from statistics import median, mean"
   ]
  },
  {
   "cell_type": "markdown",
   "metadata": {},
   "source": [
    "Here we record which proteins are only identified in one cell type. We'll set these aside for now, in the <code>data_in_one_type</code> dataframe. Note that <code>min_reps</code> is the minimum number of replicates required to list a protein as present in one type. This can be changed, i.e., <code>min_reps=5</code> to determine the proteins identified in all 5 replicates of a single type; do not set it to a number greater than the replicates run or no proteins will be returned."
   ]
  },
  {
   "cell_type": "code",
   "execution_count": 3,
   "metadata": {},
   "outputs": [],
   "source": [
    "types = ['Subject1_B_cells_062920', 'Subject2_B_cells_062920']\n",
    "types = [\"B_cells_062920\",\"B_cells_072920\", \"T_cells_062920\",  \"T_cells_072920\"]\n",
    "\n",
    "all_cell_types = [\"1_B_cells_062920\",\"1_B_cells_072920\", \"2_B_cells_062920\",  \"2_B_cells_072920\",\n",
    "              \"1_T_cells_062920\",\"1_T_cells_072920\",\"2_T_cells_062920\", \"2_T_cells_072920\"]"
   ]
  },
  {
   "cell_type": "markdown",
   "metadata": {},
   "source": [
    "Next, we select the proteins that are measured in at least half the samples from each group, allowing the calculations to proceed without imputed zero-handling."
   ]
  },
  {
   "cell_type": "code",
   "execution_count": 4,
   "metadata": {},
   "outputs": [],
   "source": [
    "data_log2 = log2(data_raw.replace(0,nan))\n",
    "indecies = data_log2.apply(data_utils.check_n_of_each_type,\n",
    "                                      axis=1, cell_types=all_cell_types, min_reps=3)\n",
    "data_filtered = data_log2[indecies]"
   ]
  },
  {
   "cell_type": "markdown",
   "metadata": {},
   "source": [
    "Before any analysis, we log normalize and median normalize across runs."
   ]
  },
  {
   "cell_type": "code",
   "execution_count": 5,
   "metadata": {},
   "outputs": [],
   "source": [
    "data = data_filtered.apply(lambda series: series-median(series.dropna()))"
   ]
  },
  {
   "cell_type": "code",
   "execution_count": 6,
   "metadata": {},
   "outputs": [
    {
     "name": "stdout",
     "output_type": "stream",
     "text": [
      "Total groups identified:\n",
      "2426\n",
      "Proteins identified in at least 3 of each cell type:\t\n",
      "887\n"
     ]
    }
   ],
   "source": [
    "print (\"Total groups identified:\")\n",
    "print(data_raw.shape[0])\n",
    "\n",
    "print (\"Proteins identified in at least 3 of each cell type:\\t\")\n",
    "print (data.shape[0])"
   ]
  },
  {
   "cell_type": "markdown",
   "metadata": {},
   "source": [
    "Now we calulate p values using a ttest. "
   ]
  },
  {
   "cell_type": "code",
   "execution_count": 7,
   "metadata": {},
   "outputs": [
    {
     "name": "stderr",
     "output_type": "stream",
     "text": [
      "D:\\Program_Files\\Anaconda\\lib\\site-packages\\scipy\\stats\\_distn_infrastructure.py:1932: RuntimeWarning: invalid value encountered in less_equal\n",
      "  cond2 = cond0 & (x <= _a)\n"
     ]
    }
   ],
   "source": [
    "#Call ttest function\n",
    "tstats_time = data.apply(data_utils.ttest_wrapper, axis=1, cell_types=[\"Subject1_B_cells_062920\", \"Subject1_B_cells_072920\"])\n",
    "tstats_BT = data.apply(data_utils.ttest_wrapper, axis=1, cell_types=[\"Subject1_B_cells_062920\", \"Subject1_T_cells_062920\"])\n"
   ]
  },
  {
   "cell_type": "markdown",
   "metadata": {},
   "source": [
    "Here we calculate fold change."
   ]
  },
  {
   "cell_type": "code",
   "execution_count": 8,
   "metadata": {},
   "outputs": [],
   "source": [
    "tstats_time['log2(June)-log2(July)'] = data.apply(data_utils.get_fold_changes, axis=1,\n",
    "                                         cell_types=[\"Subject1_B_cells_062920\", \"Subject1_B_cells_072920\"])\n",
    "tstats_BT['log2(B)-log2(T)'] = data.apply(data_utils.get_fold_changes, axis=1,\n",
    "                                         cell_types=[\"Subject1_B_cells_062920\", \"Subject1_T_cells_062920\"])"
   ]
  },
  {
   "cell_type": "markdown",
   "metadata": {},
   "source": [
    "Fold change and p values allow us to create a volcano plot."
   ]
  },
  {
   "cell_type": "code",
   "execution_count": 29,
   "metadata": {},
   "outputs": [
    {
     "name": "stdout",
     "output_type": "stream",
     "text": [
      "Comparing Subject 1 B cells from June and July\n"
     ]
    },
    {
     "data": {
      "image/png": "[encoded data removed]",
      "text/plain": [
       "<Figure size 432x288 with 1 Axes>"
      ]
     },
     "metadata": {
      "needs_background": "light"
     },
     "output_type": "display_data"
    }
   ],
   "source": [
    "#graph volcano\n",
    "import matplotlib.pyplot as plt\n",
    "import seaborn as sns\n",
    "from numpy import log10\n",
    "tstats_time['-log p'] = -log10(tstats_time['pvalue'])\n",
    "tstats_BT['-log p'] = -log10(tstats_BT['pvalue'])\n",
    "\n",
    "figure = sns.scatterplot(x='log2(June)-log2(July)',y='-log p',data=tstats_time)\n",
    "plt.xlim(-4,4)\n",
    "plt.ylim(-0.2,10)\n",
    "print(\"Comparing Subject 1 B cells from June and July\")\n",
    "#plt.axvline(1, color ='orange')\n",
    "#plt.axvline(-1, color ='orange')\n",
    "plt.axhline(-log10(.05), color ='orange')\n",
    "#plt.show()\n",
    "\n",
    "plt.savefig(\"data/figure4a_June-July.png\", dpi=300, bbox_inches='tight')"
   ]
  },
  {
   "cell_type": "code",
   "execution_count": 28,
   "metadata": {},
   "outputs": [
    {
     "name": "stdout",
     "output_type": "stream",
     "text": [
      "Comparing B and T cells from Subject 1 June\n"
     ]
    },
    {
     "data": {
      "image/png": "[encoded data removed]",
      "text/plain": [
       "<Figure size 432x288 with 1 Axes>"
      ]
     },
     "metadata": {
      "needs_background": "light"
     },
     "output_type": "display_data"
    }
   ],
   "source": [
    "figure = sns.scatterplot(x='log2(B)-log2(T)',y='-log p',data=tstats_BT)\n",
    "plt.xlim(-4,4)\n",
    "plt.ylim(-0.2,10)\n",
    "print(\"Comparing B and T cells from Subject 1 June\")\n",
    "#plt.axvline(1, color ='orange')\n",
    "#plt.axvline(-1, color ='orange')\n",
    "plt.axhline(-log10(.05), color ='orange')\n",
    "#plt.show()\n",
    "plt.savefig(\"data/figure4b_B-T.png\", dpi=300, bbox_inches='tight')"
   ]
  },
  {
   "cell_type": "code",
   "execution_count": null,
   "metadata": {},
   "outputs": [],
   "source": []
  },
  {
   "cell_type": "markdown",
   "metadata": {},
   "source": [
    "### Differentially expressed proteins"
   ]
  },
  {
   "cell_type": "markdown",
   "metadata": {},
   "source": [
    "Next we will identify the altered proteins."
   ]
  },
  {
   "cell_type": "code",
   "execution_count": 11,
   "metadata": {
    "scrolled": true
   },
   "outputs": [],
   "source": [
    "altered_time = tstats_time .apply(data_utils.is_altered, axis=1, cell_types=types, \n",
    "                           change_factor=False, change_col= 'log2(June)-log2(July)').dropna()\n",
    "altered_BT = tstats_BT.apply(data_utils.is_altered, axis=1, cell_types=types,\n",
    "                           change_factor=False, change_col= 'log2(B)-log2(T)').dropna()"
   ]
  },
  {
   "cell_type": "markdown",
   "metadata": {},
   "source": [
    "Recall that this dataset is restricted to those expressed in at least three of each cell type.\n",
    "\n",
    "These are significantly altered (p<0.01) without restricting by the magnitude of change:"
   ]
  },
  {
   "cell_type": "code",
   "execution_count": 12,
   "metadata": {},
   "outputs": [
    {
     "data": {
      "text/plain": [
       "B_cells_072920    38\n",
       "B_cells_062920    29\n",
       "dtype: int64"
      ]
     },
     "execution_count": 12,
     "metadata": {},
     "output_type": "execute_result"
    }
   ],
   "source": [
    "altered_time.value_counts()"
   ]
  },
  {
   "cell_type": "code",
   "execution_count": 13,
   "metadata": {},
   "outputs": [
    {
     "data": {
      "text/plain": [
       "B_cells_072920    71\n",
       "B_cells_062920    34\n",
       "dtype: int64"
      ]
     },
     "execution_count": 13,
     "metadata": {},
     "output_type": "execute_result"
    }
   ],
   "source": [
    "altered_BT.value_counts()"
   ]
  },
  {
   "cell_type": "markdown",
   "metadata": {},
   "source": [
    "The next step is to identify those proteins by name. Here we get the protein names from the fasta file, which remain the same regardless of which software the data was quantified using."
   ]
  },
  {
   "cell_type": "code",
   "execution_count": 14,
   "metadata": {},
   "outputs": [],
   "source": [
    "protein_names = load_data.load_fasta()"
   ]
  },
  {
   "cell_type": "code",
   "execution_count": 15,
   "metadata": {},
   "outputs": [],
   "source": [
    "import pandas as pd\n",
    "protein_names_by_group={}\n",
    "for ID in data_raw.index:\n",
    "    if ';' in ID:\n",
    "        ids = ID.split(';')\n",
    "        names=''\n",
    "        for i in ids:\n",
    "            if i in protein_names.index:\n",
    "                names=names + protein_names[i] + ';'\n",
    "        names = names[:-1]\n",
    "        protein_names_by_group[ID] = names\n",
    "    else:\n",
    "        if ID in protein_names.index:\n",
    "            protein_names_by_group[ID]=protein_names[ID]\n",
    "protein_names_by_group = pd.Series(list(protein_names_by_group.values()), index=protein_names_by_group.keys())"
   ]
  },
  {
   "cell_type": "markdown",
   "metadata": {},
   "source": [
    "Here we add the names to the <code>tstats</code> dataframe, which contains the fold changes for each protein. Then we can list the proteins that are altered. Optionally, use <code> head()</code> to display the first few or <code>to_csv</code> to write out to a file. We now split up the proteins heightened in B cells from those heightened in T cells."
   ]
  },
  {
   "cell_type": "code",
   "execution_count": 16,
   "metadata": {},
   "outputs": [],
   "source": [
    "tstats_time['Name']=protein_names_by_group\n",
    "tstats_time['GeneID'] = tstats_time.Name.apply(lambda n: str(n).split('_HUMAN')[0])\n",
    "\n",
    "altered_proteins_time = tstats_time.loc[altered_time.index].sort_values('log2(June)-log2(July)',\n",
    "                        ascending=False)[['pvalue','log2(June)-log2(July)','Name','GeneID']]\n",
    "higher_in_June = altered_proteins_time.loc[altered_proteins_time['log2(June)-log2(July)'] >0]\n",
    "higher_in_July = altered_proteins_time.loc[altered_proteins_time['log2(June)-log2(July)'] <0]\n",
    "\n",
    "#To write out to a file, use:\n",
    "#altered_proteins.to_csv('data/filename.tsv', sep='\\t')"
   ]
  },
  {
   "cell_type": "code",
   "execution_count": 17,
   "metadata": {},
   "outputs": [],
   "source": [
    "tstats_BT['Name']=protein_names_by_group\n",
    "tstats_BT['GeneID'] = tstats_BT.Name.apply(lambda n: str(n).split('_HUMAN')[0])\n",
    "\n",
    "altered_proteins_BT = tstats_BT.loc[altered_BT.index].sort_values('log2(B)-log2(T)',\n",
    "                        ascending=False)[['pvalue','log2(B)-log2(T)','Name','GeneID']]\n",
    "higher_in_B = altered_proteins_BT.loc[altered_proteins_BT['log2(B)-log2(T)'] >0]\n",
    "higher_in_T = altered_proteins_BT.loc[altered_proteins_BT['log2(B)-log2(T)'] <0]\n",
    "\n",
    "#To write out to a file, use:\n",
    "#altered_proteins.to_csv('data/filename.tsv', sep='\\t')"
   ]
  },
  {
   "cell_type": "markdown",
   "metadata": {},
   "source": [
    "### Proteins Higher in B Cells in June:"
   ]
  },
  {
   "cell_type": "code",
   "execution_count": 18,
   "metadata": {},
   "outputs": [
    {
     "data": {
      "text/html": [
       "<div>\n",
       "<style scoped>\n",
       "    .dataframe tbody tr th:only-of-type {\n",
       "        vertical-align: middle;\n",
       "    }\n",
       "\n",
       "    .dataframe tbody tr th {\n",
       "        vertical-align: top;\n",
       "    }\n",
       "\n",
       "    .dataframe thead th {\n",
       "        text-align: right;\n",
       "    }\n",
       "</style>\n",
       "<table border=\"1\" class=\"dataframe\">\n",
       "  <thead>\n",
       "    <tr style=\"text-align: right;\">\n",
       "      <th></th>\n",
       "      <th>pvalue</th>\n",
       "      <th>log2(June)-log2(July)</th>\n",
       "      <th>Name</th>\n",
       "      <th>GeneID</th>\n",
       "    </tr>\n",
       "    <tr>\n",
       "      <th>Protein ID</th>\n",
       "      <th></th>\n",
       "      <th></th>\n",
       "      <th></th>\n",
       "      <th></th>\n",
       "    </tr>\n",
       "  </thead>\n",
       "  <tbody>\n",
       "    <tr>\n",
       "      <th>P31146</th>\n",
       "      <td>0.001305</td>\n",
       "      <td>0.324453</td>\n",
       "      <td>COR1A_HUMAN Coronin-1A</td>\n",
       "      <td>COR1A</td>\n",
       "    </tr>\n",
       "    <tr>\n",
       "      <th>P27348</th>\n",
       "      <td>0.001568</td>\n",
       "      <td>0.361530</td>\n",
       "      <td>1433T_HUMAN 14-3-3 protein theta</td>\n",
       "      <td>1433T</td>\n",
       "    </tr>\n",
       "    <tr>\n",
       "      <th>Q03252</th>\n",
       "      <td>0.002709</td>\n",
       "      <td>0.422610</td>\n",
       "      <td>LMNB2_HUMAN Lamin-B2</td>\n",
       "      <td>LMNB2</td>\n",
       "    </tr>\n",
       "    <tr>\n",
       "      <th>Q5SSJ5</th>\n",
       "      <td>0.000423</td>\n",
       "      <td>0.431998</td>\n",
       "      <td>HP1B3_HUMAN Heterochromatin protein 1-binding ...</td>\n",
       "      <td>HP1B3</td>\n",
       "    </tr>\n",
       "    <tr>\n",
       "      <th>P22626</th>\n",
       "      <td>0.000418</td>\n",
       "      <td>0.449893</td>\n",
       "      <td>ROA2_HUMAN Heterogeneous nuclear ribonucleopro...</td>\n",
       "      <td>ROA2</td>\n",
       "    </tr>\n",
       "  </tbody>\n",
       "</table>\n",
       "</div>"
      ],
      "text/plain": [
       "              pvalue  log2(June)-log2(July)  \\\n",
       "Protein ID                                    \n",
       "P31146      0.001305               0.324453   \n",
       "P27348      0.001568               0.361530   \n",
       "Q03252      0.002709               0.422610   \n",
       "Q5SSJ5      0.000423               0.431998   \n",
       "P22626      0.000418               0.449893   \n",
       "\n",
       "                                                         Name GeneID  \n",
       "Protein ID                                                            \n",
       "P31146                                COR1A_HUMAN Coronin-1A   COR1A  \n",
       "P27348                      1433T_HUMAN 14-3-3 protein theta   1433T  \n",
       "Q03252                                  LMNB2_HUMAN Lamin-B2   LMNB2  \n",
       "Q5SSJ5      HP1B3_HUMAN Heterochromatin protein 1-binding ...  HP1B3  \n",
       "P22626      ROA2_HUMAN Heterogeneous nuclear ribonucleopro...   ROA2  "
      ]
     },
     "execution_count": 18,
     "metadata": {},
     "output_type": "execute_result"
    }
   ],
   "source": [
    "higher_in_June.sort_values('log2(June)-log2(July)',ascending=True).head()"
   ]
  },
  {
   "cell_type": "markdown",
   "metadata": {},
   "source": [
    "### Proteins Higher in B Cells in July:"
   ]
  },
  {
   "cell_type": "code",
   "execution_count": 19,
   "metadata": {},
   "outputs": [
    {
     "data": {
      "text/html": [
       "<div>\n",
       "<style scoped>\n",
       "    .dataframe tbody tr th:only-of-type {\n",
       "        vertical-align: middle;\n",
       "    }\n",
       "\n",
       "    .dataframe tbody tr th {\n",
       "        vertical-align: top;\n",
       "    }\n",
       "\n",
       "    .dataframe thead th {\n",
       "        text-align: right;\n",
       "    }\n",
       "</style>\n",
       "<table border=\"1\" class=\"dataframe\">\n",
       "  <thead>\n",
       "    <tr style=\"text-align: right;\">\n",
       "      <th></th>\n",
       "      <th>pvalue</th>\n",
       "      <th>log2(June)-log2(July)</th>\n",
       "      <th>Name</th>\n",
       "      <th>GeneID</th>\n",
       "    </tr>\n",
       "    <tr>\n",
       "      <th>Protein ID</th>\n",
       "      <th></th>\n",
       "      <th></th>\n",
       "      <th></th>\n",
       "      <th></th>\n",
       "    </tr>\n",
       "  </thead>\n",
       "  <tbody>\n",
       "    <tr>\n",
       "      <th>O14745</th>\n",
       "      <td>0.007763</td>\n",
       "      <td>-2.363303</td>\n",
       "      <td>NHRF1_HUMAN Na(+)/H(+) exchange regulatory cof...</td>\n",
       "      <td>NHRF1</td>\n",
       "    </tr>\n",
       "    <tr>\n",
       "      <th>P02775</th>\n",
       "      <td>0.000226</td>\n",
       "      <td>-1.192720</td>\n",
       "      <td>CXCL7_HUMAN Platelet basic protein</td>\n",
       "      <td>CXCL7</td>\n",
       "    </tr>\n",
       "    <tr>\n",
       "      <th>P07996</th>\n",
       "      <td>0.000876</td>\n",
       "      <td>-1.065799</td>\n",
       "      <td>TSP1_HUMAN Thrombospondin-1</td>\n",
       "      <td>TSP1</td>\n",
       "    </tr>\n",
       "    <tr>\n",
       "      <th>P69905</th>\n",
       "      <td>0.007538</td>\n",
       "      <td>-1.014425</td>\n",
       "      <td>HBA_HUMAN Hemoglobin subunit alpha</td>\n",
       "      <td>HBA</td>\n",
       "    </tr>\n",
       "    <tr>\n",
       "      <th>P54819</th>\n",
       "      <td>0.009845</td>\n",
       "      <td>-1.002048</td>\n",
       "      <td>KAD2_HUMAN Adenylate kinase 2, mitochondrial</td>\n",
       "      <td>KAD2</td>\n",
       "    </tr>\n",
       "  </tbody>\n",
       "</table>\n",
       "</div>"
      ],
      "text/plain": [
       "              pvalue  log2(June)-log2(July)  \\\n",
       "Protein ID                                    \n",
       "O14745      0.007763              -2.363303   \n",
       "P02775      0.000226              -1.192720   \n",
       "P07996      0.000876              -1.065799   \n",
       "P69905      0.007538              -1.014425   \n",
       "P54819      0.009845              -1.002048   \n",
       "\n",
       "                                                         Name GeneID  \n",
       "Protein ID                                                            \n",
       "O14745      NHRF1_HUMAN Na(+)/H(+) exchange regulatory cof...  NHRF1  \n",
       "P02775                    CXCL7_HUMAN Platelet basic protein   CXCL7  \n",
       "P07996                           TSP1_HUMAN Thrombospondin-1    TSP1  \n",
       "P69905                    HBA_HUMAN Hemoglobin subunit alpha     HBA  \n",
       "P54819          KAD2_HUMAN Adenylate kinase 2, mitochondrial    KAD2  "
      ]
     },
     "execution_count": 19,
     "metadata": {},
     "output_type": "execute_result"
    }
   ],
   "source": [
    "higher_in_July.sort_values('log2(June)-log2(July)',ascending=True).head()"
   ]
  },
  {
   "cell_type": "markdown",
   "metadata": {},
   "source": [
    "### Proteins Higher in B than T Cells:"
   ]
  },
  {
   "cell_type": "code",
   "execution_count": 20,
   "metadata": {
    "scrolled": false
   },
   "outputs": [
    {
     "data": {
      "text/html": [
       "<div>\n",
       "<style scoped>\n",
       "    .dataframe tbody tr th:only-of-type {\n",
       "        vertical-align: middle;\n",
       "    }\n",
       "\n",
       "    .dataframe tbody tr th {\n",
       "        vertical-align: top;\n",
       "    }\n",
       "\n",
       "    .dataframe thead th {\n",
       "        text-align: right;\n",
       "    }\n",
       "</style>\n",
       "<table border=\"1\" class=\"dataframe\">\n",
       "  <thead>\n",
       "    <tr style=\"text-align: right;\">\n",
       "      <th></th>\n",
       "      <th>pvalue</th>\n",
       "      <th>log2(B)-log2(T)</th>\n",
       "      <th>Name</th>\n",
       "      <th>GeneID</th>\n",
       "    </tr>\n",
       "    <tr>\n",
       "      <th>Protein ID</th>\n",
       "      <th></th>\n",
       "      <th></th>\n",
       "      <th></th>\n",
       "      <th></th>\n",
       "    </tr>\n",
       "  </thead>\n",
       "  <tbody>\n",
       "    <tr>\n",
       "      <th>P20700</th>\n",
       "      <td>0.007490</td>\n",
       "      <td>0.200425</td>\n",
       "      <td>LMNB1_HUMAN Lamin-B1</td>\n",
       "      <td>LMNB1</td>\n",
       "    </tr>\n",
       "    <tr>\n",
       "      <th>Q14697</th>\n",
       "      <td>0.003333</td>\n",
       "      <td>0.258279</td>\n",
       "      <td>GANAB_HUMAN Neutral alpha-glucosidase AB</td>\n",
       "      <td>GANAB</td>\n",
       "    </tr>\n",
       "    <tr>\n",
       "      <th>P40925</th>\n",
       "      <td>0.000109</td>\n",
       "      <td>0.344500</td>\n",
       "      <td>MDHC_HUMAN Malate dehydrogenase, cytoplasmic</td>\n",
       "      <td>MDHC</td>\n",
       "    </tr>\n",
       "    <tr>\n",
       "      <th>P15311</th>\n",
       "      <td>0.003943</td>\n",
       "      <td>0.374889</td>\n",
       "      <td>EZRI_HUMAN Ezrin</td>\n",
       "      <td>EZRI</td>\n",
       "    </tr>\n",
       "    <tr>\n",
       "      <th>P05141</th>\n",
       "      <td>0.008709</td>\n",
       "      <td>0.400351</td>\n",
       "      <td>ADT2_HUMAN ADP/ATP translocase 2</td>\n",
       "      <td>ADT2</td>\n",
       "    </tr>\n",
       "  </tbody>\n",
       "</table>\n",
       "</div>"
      ],
      "text/plain": [
       "              pvalue  log2(B)-log2(T)  \\\n",
       "Protein ID                              \n",
       "P20700      0.007490         0.200425   \n",
       "Q14697      0.003333         0.258279   \n",
       "P40925      0.000109         0.344500   \n",
       "P15311      0.003943         0.374889   \n",
       "P05141      0.008709         0.400351   \n",
       "\n",
       "                                                     Name GeneID  \n",
       "Protein ID                                                        \n",
       "P20700                              LMNB1_HUMAN Lamin-B1   LMNB1  \n",
       "Q14697          GANAB_HUMAN Neutral alpha-glucosidase AB   GANAB  \n",
       "P40925      MDHC_HUMAN Malate dehydrogenase, cytoplasmic    MDHC  \n",
       "P15311                                  EZRI_HUMAN Ezrin    EZRI  \n",
       "P05141                  ADT2_HUMAN ADP/ATP translocase 2    ADT2  "
      ]
     },
     "execution_count": 20,
     "metadata": {},
     "output_type": "execute_result"
    }
   ],
   "source": [
    "higher_in_B.sort_values('log2(B)-log2(T)',ascending=True).head()"
   ]
  },
  {
   "cell_type": "markdown",
   "metadata": {},
   "source": [
    "### Proteins Higher in T than B Cells:"
   ]
  },
  {
   "cell_type": "code",
   "execution_count": 21,
   "metadata": {},
   "outputs": [
    {
     "data": {
      "text/html": [
       "<div>\n",
       "<style scoped>\n",
       "    .dataframe tbody tr th:only-of-type {\n",
       "        vertical-align: middle;\n",
       "    }\n",
       "\n",
       "    .dataframe tbody tr th {\n",
       "        vertical-align: top;\n",
       "    }\n",
       "\n",
       "    .dataframe thead th {\n",
       "        text-align: right;\n",
       "    }\n",
       "</style>\n",
       "<table border=\"1\" class=\"dataframe\">\n",
       "  <thead>\n",
       "    <tr style=\"text-align: right;\">\n",
       "      <th></th>\n",
       "      <th>pvalue</th>\n",
       "      <th>log2(B)-log2(T)</th>\n",
       "      <th>Name</th>\n",
       "      <th>GeneID</th>\n",
       "    </tr>\n",
       "    <tr>\n",
       "      <th>Protein ID</th>\n",
       "      <th></th>\n",
       "      <th></th>\n",
       "      <th></th>\n",
       "      <th></th>\n",
       "    </tr>\n",
       "  </thead>\n",
       "  <tbody>\n",
       "    <tr>\n",
       "      <th>O14745</th>\n",
       "      <td>0.000218</td>\n",
       "      <td>-4.268568</td>\n",
       "      <td>NHRF1_HUMAN Na(+)/H(+) exchange regulatory cof...</td>\n",
       "      <td>NHRF1</td>\n",
       "    </tr>\n",
       "    <tr>\n",
       "      <th>P26447</th>\n",
       "      <td>0.000006</td>\n",
       "      <td>-2.997963</td>\n",
       "      <td>10A4_HUMAN Protein S100-A4</td>\n",
       "      <td>10A4</td>\n",
       "    </tr>\n",
       "    <tr>\n",
       "      <th>Q15149</th>\n",
       "      <td>0.000269</td>\n",
       "      <td>-1.593452</td>\n",
       "      <td>PLEC_HUMAN Plectin</td>\n",
       "      <td>PLEC</td>\n",
       "    </tr>\n",
       "    <tr>\n",
       "      <th>P12814</th>\n",
       "      <td>0.000239</td>\n",
       "      <td>-1.507178</td>\n",
       "      <td>ACTN1_HUMAN Alpha-actinin-1</td>\n",
       "      <td>ACTN1</td>\n",
       "    </tr>\n",
       "    <tr>\n",
       "      <th>P31949</th>\n",
       "      <td>0.000026</td>\n",
       "      <td>-1.474413</td>\n",
       "      <td>10AB_HUMAN Protein S100-A11</td>\n",
       "      <td>10AB</td>\n",
       "    </tr>\n",
       "  </tbody>\n",
       "</table>\n",
       "</div>"
      ],
      "text/plain": [
       "              pvalue  log2(B)-log2(T)  \\\n",
       "Protein ID                              \n",
       "O14745      0.000218        -4.268568   \n",
       "P26447      0.000006        -2.997963   \n",
       "Q15149      0.000269        -1.593452   \n",
       "P12814      0.000239        -1.507178   \n",
       "P31949      0.000026        -1.474413   \n",
       "\n",
       "                                                         Name GeneID  \n",
       "Protein ID                                                            \n",
       "O14745      NHRF1_HUMAN Na(+)/H(+) exchange regulatory cof...  NHRF1  \n",
       "P26447                            10A4_HUMAN Protein S100-A4    10A4  \n",
       "Q15149                                    PLEC_HUMAN Plectin    PLEC  \n",
       "P12814                           ACTN1_HUMAN Alpha-actinin-1   ACTN1  \n",
       "P31949                           10AB_HUMAN Protein S100-A11    10AB  "
      ]
     },
     "execution_count": 21,
     "metadata": {},
     "output_type": "execute_result"
    }
   ],
   "source": [
    "higher_in_T.sort_values('log2(B)-log2(T)',ascending=True).head()"
   ]
  },
  {
   "cell_type": "code",
   "execution_count": null,
   "metadata": {},
   "outputs": [],
   "source": []
  }
 ],
 "metadata": {
  "kernelspec": {
   "display_name": "Python 3",
   "language": "python",
   "name": "python3"
  },
  "language_info": {
   "codemirror_mode": {
    "name": "ipython",
    "version": 3
   },
   "file_extension": ".py",
   "mimetype": "text/x-python",
   "name": "python",
   "nbconvert_exporter": "python",
   "pygments_lexer": "ipython3",
   "version": "3.8.3"
  }
 },
 "nbformat": 4,
 "nbformat_minor": 2
}
