{
 "cells": [
  {
   "cell_type": "markdown",
   "metadata": {},
   "source": [
    "## Overview at a Protein Level\n",
    "\n"
   ]
  },
  {
   "cell_type": "code",
   "execution_count": 1,
   "metadata": {},
   "outputs": [],
   "source": [
    "import load_data\n",
    "data_raw = load_data.load_FragPipe(version=\"July_noMBR_FP\", contains=[])"
   ]
  },
  {
   "cell_type": "markdown",
   "metadata": {},
   "source": [
    "Here we display the raw data. Note that it yeilds 15 columns, as there are 5 conditions in triplicates. For each protein, these samples are marked as \"NaN\" to indicate that the protein was not identified, \"By matching\" to indicate that the protein was identified in that sample only with match between runs, or \"By MS/MS\" indicating MS/MS identification."
   ]
  },
  {
   "cell_type": "code",
   "execution_count": 2,
   "metadata": {},
   "outputs": [
    {
     "data": {
      "text/html": [
       "<div>\n",
       "<style scoped>\n",
       "    .dataframe tbody tr th:only-of-type {\n",
       "        vertical-align: middle;\n",
       "    }\n",
       "\n",
       "    .dataframe tbody tr th {\n",
       "        vertical-align: top;\n",
       "    }\n",
       "\n",
       "    .dataframe thead th {\n",
       "        text-align: right;\n",
       "    }\n",
       "</style>\n",
       "<table border=\"1\" class=\"dataframe\">\n",
       "  <thead>\n",
       "    <tr style=\"text-align: right;\">\n",
       "      <th></th>\n",
       "      <th>Blank_3</th>\n",
       "      <th>Blank_4</th>\n",
       "      <th>Blank_5</th>\n",
       "      <th>Subject1_B_cells_062920_C_10</th>\n",
       "      <th>Subject1_B_cells_062920_C_11</th>\n",
       "      <th>Subject1_B_cells_062920_C_12</th>\n",
       "      <th>Subject1_B_cells_062920_C_13</th>\n",
       "      <th>Subject1_B_cells_062920_C_9</th>\n",
       "      <th>Subject1_B_cells_072920_C_4</th>\n",
       "      <th>Subject1_B_cells_072920_C_5</th>\n",
       "      <th>...</th>\n",
       "      <th>Subject2_T_cells_062920_F_12</th>\n",
       "      <th>Subject2_T_cells_062920_F_13</th>\n",
       "      <th>Subject2_T_cells_062920_F_14</th>\n",
       "      <th>Subject2_T_cells_062920_F_9</th>\n",
       "      <th>Subject2_T_cells_072920_F_1</th>\n",
       "      <th>Subject2_T_cells_072920_F_3</th>\n",
       "      <th>Subject2_T_cells_072920_F_4</th>\n",
       "      <th>Subject2_T_cells_072920_F_5</th>\n",
       "      <th>Subject2_T_cells_072920_F_6</th>\n",
       "      <th>Subject2_T_cells_072920_F_8</th>\n",
       "    </tr>\n",
       "    <tr>\n",
       "      <th>Protein ID</th>\n",
       "      <th></th>\n",
       "      <th></th>\n",
       "      <th></th>\n",
       "      <th></th>\n",
       "      <th></th>\n",
       "      <th></th>\n",
       "      <th></th>\n",
       "      <th></th>\n",
       "      <th></th>\n",
       "      <th></th>\n",
       "      <th></th>\n",
       "      <th></th>\n",
       "      <th></th>\n",
       "      <th></th>\n",
       "      <th></th>\n",
       "      <th></th>\n",
       "      <th></th>\n",
       "      <th></th>\n",
       "      <th></th>\n",
       "      <th></th>\n",
       "      <th></th>\n",
       "    </tr>\n",
       "  </thead>\n",
       "  <tbody>\n",
       "    <tr>\n",
       "      <th>A0A0B4J2D5</th>\n",
       "      <td>0.0</td>\n",
       "      <td>0.0</td>\n",
       "      <td>0.0</td>\n",
       "      <td>3203277.5</td>\n",
       "      <td>4697996.0</td>\n",
       "      <td>7346776.5</td>\n",
       "      <td>8472867.0</td>\n",
       "      <td>4280919.5</td>\n",
       "      <td>0.0</td>\n",
       "      <td>4787781.50</td>\n",
       "      <td>...</td>\n",
       "      <td>0.0</td>\n",
       "      <td>4905873.00</td>\n",
       "      <td>0.0</td>\n",
       "      <td>3405266.0</td>\n",
       "      <td>4656720.00</td>\n",
       "      <td>1673629.9</td>\n",
       "      <td>6060600.5</td>\n",
       "      <td>2407679.5</td>\n",
       "      <td>7791855.0</td>\n",
       "      <td>5542659.50</td>\n",
       "    </tr>\n",
       "    <tr>\n",
       "      <th>A0AVT1</th>\n",
       "      <td>0.0</td>\n",
       "      <td>0.0</td>\n",
       "      <td>0.0</td>\n",
       "      <td>1917388.2</td>\n",
       "      <td>3033529.2</td>\n",
       "      <td>3773018.8</td>\n",
       "      <td>1865758.6</td>\n",
       "      <td>5191332.5</td>\n",
       "      <td>3332031.5</td>\n",
       "      <td>2464089.00</td>\n",
       "      <td>...</td>\n",
       "      <td>1091121.4</td>\n",
       "      <td>630647.25</td>\n",
       "      <td>576871.9</td>\n",
       "      <td>0.0</td>\n",
       "      <td>0.00</td>\n",
       "      <td>0.0</td>\n",
       "      <td>0.0</td>\n",
       "      <td>827356.1</td>\n",
       "      <td>1260652.0</td>\n",
       "      <td>0.00</td>\n",
       "    </tr>\n",
       "    <tr>\n",
       "      <th>A0FGR8</th>\n",
       "      <td>0.0</td>\n",
       "      <td>0.0</td>\n",
       "      <td>0.0</td>\n",
       "      <td>0.0</td>\n",
       "      <td>0.0</td>\n",
       "      <td>0.0</td>\n",
       "      <td>0.0</td>\n",
       "      <td>0.0</td>\n",
       "      <td>0.0</td>\n",
       "      <td>0.00</td>\n",
       "      <td>...</td>\n",
       "      <td>1514363.4</td>\n",
       "      <td>866311.94</td>\n",
       "      <td>0.0</td>\n",
       "      <td>0.0</td>\n",
       "      <td>0.00</td>\n",
       "      <td>0.0</td>\n",
       "      <td>0.0</td>\n",
       "      <td>0.0</td>\n",
       "      <td>653698.6</td>\n",
       "      <td>879074.56</td>\n",
       "    </tr>\n",
       "    <tr>\n",
       "      <th>A6NHR9</th>\n",
       "      <td>0.0</td>\n",
       "      <td>0.0</td>\n",
       "      <td>0.0</td>\n",
       "      <td>2650513.5</td>\n",
       "      <td>0.0</td>\n",
       "      <td>3788095.8</td>\n",
       "      <td>0.0</td>\n",
       "      <td>0.0</td>\n",
       "      <td>1845555.5</td>\n",
       "      <td>933499.44</td>\n",
       "      <td>...</td>\n",
       "      <td>0.0</td>\n",
       "      <td>0.00</td>\n",
       "      <td>0.0</td>\n",
       "      <td>0.0</td>\n",
       "      <td>430484.97</td>\n",
       "      <td>0.0</td>\n",
       "      <td>0.0</td>\n",
       "      <td>0.0</td>\n",
       "      <td>538303.6</td>\n",
       "      <td>948190.40</td>\n",
       "    </tr>\n",
       "    <tr>\n",
       "      <th>A8K2U0</th>\n",
       "      <td>0.0</td>\n",
       "      <td>0.0</td>\n",
       "      <td>0.0</td>\n",
       "      <td>0.0</td>\n",
       "      <td>0.0</td>\n",
       "      <td>0.0</td>\n",
       "      <td>1149867.8</td>\n",
       "      <td>0.0</td>\n",
       "      <td>0.0</td>\n",
       "      <td>0.00</td>\n",
       "      <td>...</td>\n",
       "      <td>0.0</td>\n",
       "      <td>0.00</td>\n",
       "      <td>0.0</td>\n",
       "      <td>0.0</td>\n",
       "      <td>0.00</td>\n",
       "      <td>0.0</td>\n",
       "      <td>0.0</td>\n",
       "      <td>0.0</td>\n",
       "      <td>0.0</td>\n",
       "      <td>0.00</td>\n",
       "    </tr>\n",
       "    <tr>\n",
       "      <th>...</th>\n",
       "      <td>...</td>\n",
       "      <td>...</td>\n",
       "      <td>...</td>\n",
       "      <td>...</td>\n",
       "      <td>...</td>\n",
       "      <td>...</td>\n",
       "      <td>...</td>\n",
       "      <td>...</td>\n",
       "      <td>...</td>\n",
       "      <td>...</td>\n",
       "      <td>...</td>\n",
       "      <td>...</td>\n",
       "      <td>...</td>\n",
       "      <td>...</td>\n",
       "      <td>...</td>\n",
       "      <td>...</td>\n",
       "      <td>...</td>\n",
       "      <td>...</td>\n",
       "      <td>...</td>\n",
       "      <td>...</td>\n",
       "      <td>...</td>\n",
       "    </tr>\n",
       "    <tr>\n",
       "      <th>O15068</th>\n",
       "      <td>0.0</td>\n",
       "      <td>0.0</td>\n",
       "      <td>0.0</td>\n",
       "      <td>0.0</td>\n",
       "      <td>0.0</td>\n",
       "      <td>0.0</td>\n",
       "      <td>0.0</td>\n",
       "      <td>0.0</td>\n",
       "      <td>0.0</td>\n",
       "      <td>0.00</td>\n",
       "      <td>...</td>\n",
       "      <td>0.0</td>\n",
       "      <td>0.00</td>\n",
       "      <td>0.0</td>\n",
       "      <td>0.0</td>\n",
       "      <td>0.00</td>\n",
       "      <td>0.0</td>\n",
       "      <td>0.0</td>\n",
       "      <td>0.0</td>\n",
       "      <td>0.0</td>\n",
       "      <td>0.00</td>\n",
       "    </tr>\n",
       "    <tr>\n",
       "      <th>Q14C86</th>\n",
       "      <td>0.0</td>\n",
       "      <td>0.0</td>\n",
       "      <td>0.0</td>\n",
       "      <td>0.0</td>\n",
       "      <td>0.0</td>\n",
       "      <td>1139333.0</td>\n",
       "      <td>0.0</td>\n",
       "      <td>0.0</td>\n",
       "      <td>0.0</td>\n",
       "      <td>0.00</td>\n",
       "      <td>...</td>\n",
       "      <td>0.0</td>\n",
       "      <td>0.00</td>\n",
       "      <td>0.0</td>\n",
       "      <td>0.0</td>\n",
       "      <td>0.00</td>\n",
       "      <td>0.0</td>\n",
       "      <td>0.0</td>\n",
       "      <td>0.0</td>\n",
       "      <td>1029046.4</td>\n",
       "      <td>0.00</td>\n",
       "    </tr>\n",
       "    <tr>\n",
       "      <th>Q8N4T8</th>\n",
       "      <td>0.0</td>\n",
       "      <td>0.0</td>\n",
       "      <td>0.0</td>\n",
       "      <td>0.0</td>\n",
       "      <td>0.0</td>\n",
       "      <td>0.0</td>\n",
       "      <td>0.0</td>\n",
       "      <td>0.0</td>\n",
       "      <td>0.0</td>\n",
       "      <td>0.00</td>\n",
       "      <td>...</td>\n",
       "      <td>0.0</td>\n",
       "      <td>0.00</td>\n",
       "      <td>0.0</td>\n",
       "      <td>0.0</td>\n",
       "      <td>0.00</td>\n",
       "      <td>0.0</td>\n",
       "      <td>0.0</td>\n",
       "      <td>0.0</td>\n",
       "      <td>0.0</td>\n",
       "      <td>0.00</td>\n",
       "    </tr>\n",
       "    <tr>\n",
       "      <th>Q8IW45</th>\n",
       "      <td>0.0</td>\n",
       "      <td>0.0</td>\n",
       "      <td>0.0</td>\n",
       "      <td>0.0</td>\n",
       "      <td>0.0</td>\n",
       "      <td>0.0</td>\n",
       "      <td>0.0</td>\n",
       "      <td>0.0</td>\n",
       "      <td>0.0</td>\n",
       "      <td>0.00</td>\n",
       "      <td>...</td>\n",
       "      <td>0.0</td>\n",
       "      <td>0.00</td>\n",
       "      <td>0.0</td>\n",
       "      <td>0.0</td>\n",
       "      <td>0.00</td>\n",
       "      <td>0.0</td>\n",
       "      <td>0.0</td>\n",
       "      <td>0.0</td>\n",
       "      <td>0.0</td>\n",
       "      <td>0.00</td>\n",
       "    </tr>\n",
       "    <tr>\n",
       "      <th>Q96PP8</th>\n",
       "      <td>0.0</td>\n",
       "      <td>0.0</td>\n",
       "      <td>0.0</td>\n",
       "      <td>0.0</td>\n",
       "      <td>0.0</td>\n",
       "      <td>0.0</td>\n",
       "      <td>0.0</td>\n",
       "      <td>0.0</td>\n",
       "      <td>0.0</td>\n",
       "      <td>0.00</td>\n",
       "      <td>...</td>\n",
       "      <td>2672994.5</td>\n",
       "      <td>0.00</td>\n",
       "      <td>1829618.0</td>\n",
       "      <td>0.0</td>\n",
       "      <td>0.00</td>\n",
       "      <td>0.0</td>\n",
       "      <td>0.0</td>\n",
       "      <td>0.0</td>\n",
       "      <td>0.0</td>\n",
       "      <td>0.00</td>\n",
       "    </tr>\n",
       "  </tbody>\n",
       "</table>\n",
       "<p>2426 rows × 46 columns</p>\n",
       "</div>"
      ],
      "text/plain": [
       "            Blank_3  Blank_4  Blank_5  Subject1_B_cells_062920_C_10  \\\n",
       "Protein ID                                                            \n",
       "A0A0B4J2D5      0.0      0.0      0.0                     3203277.5   \n",
       "A0AVT1          0.0      0.0      0.0                     1917388.2   \n",
       "A0FGR8          0.0      0.0      0.0                           0.0   \n",
       "A6NHR9          0.0      0.0      0.0                     2650513.5   \n",
       "A8K2U0          0.0      0.0      0.0                           0.0   \n",
       "...             ...      ...      ...                           ...   \n",
       "O15068          0.0      0.0      0.0                           0.0   \n",
       "Q14C86          0.0      0.0      0.0                           0.0   \n",
       "Q8N4T8          0.0      0.0      0.0                           0.0   \n",
       "Q8IW45          0.0      0.0      0.0                           0.0   \n",
       "Q96PP8          0.0      0.0      0.0                           0.0   \n",
       "\n",
       "            Subject1_B_cells_062920_C_11  Subject1_B_cells_062920_C_12  \\\n",
       "Protein ID                                                               \n",
       "A0A0B4J2D5                     4697996.0                     7346776.5   \n",
       "A0AVT1                         3033529.2                     3773018.8   \n",
       "A0FGR8                               0.0                           0.0   \n",
       "A6NHR9                               0.0                     3788095.8   \n",
       "A8K2U0                               0.0                           0.0   \n",
       "...                                  ...                           ...   \n",
       "O15068                               0.0                           0.0   \n",
       "Q14C86                               0.0                     1139333.0   \n",
       "Q8N4T8                               0.0                           0.0   \n",
       "Q8IW45                               0.0                           0.0   \n",
       "Q96PP8                               0.0                           0.0   \n",
       "\n",
       "            Subject1_B_cells_062920_C_13  Subject1_B_cells_062920_C_9  \\\n",
       "Protein ID                                                              \n",
       "A0A0B4J2D5                     8472867.0                    4280919.5   \n",
       "A0AVT1                         1865758.6                    5191332.5   \n",
       "A0FGR8                               0.0                          0.0   \n",
       "A6NHR9                               0.0                          0.0   \n",
       "A8K2U0                         1149867.8                          0.0   \n",
       "...                                  ...                          ...   \n",
       "O15068                               0.0                          0.0   \n",
       "Q14C86                               0.0                          0.0   \n",
       "Q8N4T8                               0.0                          0.0   \n",
       "Q8IW45                               0.0                          0.0   \n",
       "Q96PP8                               0.0                          0.0   \n",
       "\n",
       "            Subject1_B_cells_072920_C_4  Subject1_B_cells_072920_C_5  ...  \\\n",
       "Protein ID                                                            ...   \n",
       "A0A0B4J2D5                          0.0                   4787781.50  ...   \n",
       "A0AVT1                        3332031.5                   2464089.00  ...   \n",
       "A0FGR8                              0.0                         0.00  ...   \n",
       "A6NHR9                        1845555.5                    933499.44  ...   \n",
       "A8K2U0                              0.0                         0.00  ...   \n",
       "...                                 ...                          ...  ...   \n",
       "O15068                              0.0                         0.00  ...   \n",
       "Q14C86                              0.0                         0.00  ...   \n",
       "Q8N4T8                              0.0                         0.00  ...   \n",
       "Q8IW45                              0.0                         0.00  ...   \n",
       "Q96PP8                              0.0                         0.00  ...   \n",
       "\n",
       "            Subject2_T_cells_062920_F_12  Subject2_T_cells_062920_F_13  \\\n",
       "Protein ID                                                               \n",
       "A0A0B4J2D5                           0.0                    4905873.00   \n",
       "A0AVT1                         1091121.4                     630647.25   \n",
       "A0FGR8                         1514363.4                     866311.94   \n",
       "A6NHR9                               0.0                          0.00   \n",
       "A8K2U0                               0.0                          0.00   \n",
       "...                                  ...                           ...   \n",
       "O15068                               0.0                          0.00   \n",
       "Q14C86                               0.0                          0.00   \n",
       "Q8N4T8                               0.0                          0.00   \n",
       "Q8IW45                               0.0                          0.00   \n",
       "Q96PP8                         2672994.5                          0.00   \n",
       "\n",
       "            Subject2_T_cells_062920_F_14  Subject2_T_cells_062920_F_9  \\\n",
       "Protein ID                                                              \n",
       "A0A0B4J2D5                           0.0                    3405266.0   \n",
       "A0AVT1                          576871.9                          0.0   \n",
       "A0FGR8                               0.0                          0.0   \n",
       "A6NHR9                               0.0                          0.0   \n",
       "A8K2U0                               0.0                          0.0   \n",
       "...                                  ...                          ...   \n",
       "O15068                               0.0                          0.0   \n",
       "Q14C86                               0.0                          0.0   \n",
       "Q8N4T8                               0.0                          0.0   \n",
       "Q8IW45                               0.0                          0.0   \n",
       "Q96PP8                         1829618.0                          0.0   \n",
       "\n",
       "            Subject2_T_cells_072920_F_1  Subject2_T_cells_072920_F_3  \\\n",
       "Protein ID                                                             \n",
       "A0A0B4J2D5                   4656720.00                    1673629.9   \n",
       "A0AVT1                             0.00                          0.0   \n",
       "A0FGR8                             0.00                          0.0   \n",
       "A6NHR9                        430484.97                          0.0   \n",
       "A8K2U0                             0.00                          0.0   \n",
       "...                                 ...                          ...   \n",
       "O15068                             0.00                          0.0   \n",
       "Q14C86                             0.00                          0.0   \n",
       "Q8N4T8                             0.00                          0.0   \n",
       "Q8IW45                             0.00                          0.0   \n",
       "Q96PP8                             0.00                          0.0   \n",
       "\n",
       "            Subject2_T_cells_072920_F_4  Subject2_T_cells_072920_F_5  \\\n",
       "Protein ID                                                             \n",
       "A0A0B4J2D5                    6060600.5                    2407679.5   \n",
       "A0AVT1                              0.0                     827356.1   \n",
       "A0FGR8                              0.0                          0.0   \n",
       "A6NHR9                              0.0                          0.0   \n",
       "A8K2U0                              0.0                          0.0   \n",
       "...                                 ...                          ...   \n",
       "O15068                              0.0                          0.0   \n",
       "Q14C86                              0.0                          0.0   \n",
       "Q8N4T8                              0.0                          0.0   \n",
       "Q8IW45                              0.0                          0.0   \n",
       "Q96PP8                              0.0                          0.0   \n",
       "\n",
       "            Subject2_T_cells_072920_F_6  Subject2_T_cells_072920_F_8  \n",
       "Protein ID                                                            \n",
       "A0A0B4J2D5                    7791855.0                   5542659.50  \n",
       "A0AVT1                        1260652.0                         0.00  \n",
       "A0FGR8                         653698.6                    879074.56  \n",
       "A6NHR9                         538303.6                    948190.40  \n",
       "A8K2U0                              0.0                         0.00  \n",
       "...                                 ...                          ...  \n",
       "O15068                              0.0                         0.00  \n",
       "Q14C86                        1029046.4                         0.00  \n",
       "Q8N4T8                              0.0                         0.00  \n",
       "Q8IW45                              0.0                         0.00  \n",
       "Q96PP8                              0.0                         0.00  \n",
       "\n",
       "[2426 rows x 46 columns]"
      ]
     },
     "execution_count": 2,
     "metadata": {},
     "output_type": "execute_result"
    }
   ],
   "source": [
    "data_raw"
   ]
  },
  {
   "cell_type": "markdown",
   "metadata": {},
   "source": [
    "Here we load functions that will be used."
   ]
  },
  {
   "cell_type": "code",
   "execution_count": 3,
   "metadata": {},
   "outputs": [],
   "source": [
    "import matplotlib.pyplot as plt\n",
    "\n",
    "import numpy as np\n",
    "import pandas as pd"
   ]
  },
  {
   "cell_type": "markdown",
   "metadata": {},
   "source": [
    "### Counts by Sample"
   ]
  },
  {
   "cell_type": "markdown",
   "metadata": {},
   "source": [
    "Now we can get the number of proteins identified  in each sample. "
   ]
  },
  {
   "cell_type": "code",
   "execution_count": 4,
   "metadata": {},
   "outputs": [
    {
     "data": {
      "text/plain": [
       "Blank_3                          811\n",
       "Blank_4                          788\n",
       "Blank_5                          735\n",
       "Subject1_B_cells_062920_C_10    1240\n",
       "Subject1_B_cells_062920_C_11    1080\n",
       "Subject1_B_cells_062920_C_12    1332\n",
       "Subject1_B_cells_062920_C_13    1080\n",
       "Subject1_B_cells_062920_C_9     1161\n",
       "Subject1_B_cells_072920_C_4     1328\n",
       "Subject1_B_cells_072920_C_5     1483\n",
       "Subject1_B_cells_072920_C_6     1430\n",
       "Subject1_B_cells_072920_C_8     1426\n",
       "Subject1_B_cells_072920_C_9     1464\n",
       "Subject1_T_cells_062920_D_10    1151\n",
       "Subject1_T_cells_062920_D_11    1265\n",
       "Subject1_T_cells_062920_D_12    1140\n",
       "Subject1_T_cells_062920_D_13    1144\n",
       "Subject1_T_cells_062920_D_9     1171\n",
       "Subject1_T_cells_072920_D_2     1422\n",
       "Subject1_T_cells_072920_D_4     1383\n",
       "Subject1_T_cells_072920_D_5     1297\n",
       "Subject1_T_cells_072920_D_6     1420\n",
       "Subject1_T_cells_072920_D_7     1353\n",
       "Subject2_B_cells_062920_E_11    1176\n",
       "Subject2_B_cells_062920_E_12    1142\n",
       "Subject2_B_cells_062920_E_13    1161\n",
       "Subject2_B_cells_062920_E_16    1170\n",
       "Subject2_B_cells_062920_E_9     1238\n",
       "Subject2_B_cells_072920_E_1     1471\n",
       "Subject2_B_cells_072920_E_2     1607\n",
       "Subject2_B_cells_072920_E_4     1579\n",
       "Subject2_B_cells_072920_E_5     1542\n",
       "Subject2_B_cells_072920_E_7     1579\n",
       "Subject2_B_cells_072920_E_8     1587\n",
       "Subject2_T_cells_062920_F_10    1369\n",
       "Subject2_T_cells_062920_F_11    1278\n",
       "Subject2_T_cells_062920_F_12    1180\n",
       "Subject2_T_cells_062920_F_13    1247\n",
       "Subject2_T_cells_062920_F_14    1196\n",
       "Subject2_T_cells_062920_F_9     1252\n",
       "Subject2_T_cells_072920_F_1     1407\n",
       "Subject2_T_cells_072920_F_3     1323\n",
       "Subject2_T_cells_072920_F_4     1339\n",
       "Subject2_T_cells_072920_F_5     1370\n",
       "Subject2_T_cells_072920_F_6     1377\n",
       "Subject2_T_cells_072920_F_8     1335\n",
       "dtype: int64"
      ]
     },
     "execution_count": 4,
     "metadata": {},
     "output_type": "execute_result"
    }
   ],
   "source": [
    "import data_utils\n",
    "\n",
    "counts = data_raw.apply(np.count_nonzero)\n",
    "counts.sort_values()\n",
    "\n",
    "#counts.to_csv('data/protein_counts.csv'.format(version))\n",
    "counts"
   ]
  },
  {
   "cell_type": "markdown",
   "metadata": {},
   "source": [
    "Here we visualized that same data for clarity. "
   ]
  },
  {
   "cell_type": "code",
   "execution_count": 5,
   "metadata": {
    "scrolled": false
   },
   "outputs": [
    {
     "data": {
      "image/png": "[encoded data removed]",
      "text/plain": [
       "<Figure size 432x288 with 1 Axes>"
      ]
     },
     "metadata": {
      "needs_background": "light"
     },
     "output_type": "display_data"
    }
   ],
   "source": [
    "counts.sort_values().plot.bar()\n",
    "plt.show()"
   ]
  },
  {
   "cell_type": "markdown",
   "metadata": {},
   "source": [
    "Here we declare the sample types, or the conditions. In this case, cell type and collection date define the conditions. In this version of our functions, the type identifier string has to be in the column name."
   ]
  },
  {
   "cell_type": "code",
   "execution_count": 6,
   "metadata": {},
   "outputs": [],
   "source": [
    "cell_types = ['B_cells_062920','T_cells_062920',\n",
    "              'B_cells_072920','T_cells_072920']"
   ]
  },
  {
   "cell_type": "markdown",
   "metadata": {},
   "source": [
    "To improve the bar plot, we will assign a color to each type to make the triplicates more distinct."
   ]
  },
  {
   "cell_type": "code",
   "execution_count": 7,
   "metadata": {
    "scrolled": false
   },
   "outputs": [],
   "source": [
    "colors = ['#0066ff','orange','#0066ff','orange','#0066ff']\n",
    "samples=np.array(data_raw.columns.values)\n",
    "\n",
    "color_by_type = []\n",
    "for cell_type in cell_types:\n",
    "    cells_of_type = list(s for i,s in enumerate(samples) if cell_type in s)\n",
    "    for c in cells_of_type:\n",
    "        color_by_type.append(colors[0])\n",
    "    colors.pop(0)"
   ]
  },
  {
   "cell_type": "markdown",
   "metadata": {},
   "source": [
    "Replot with colors and labels."
   ]
  },
  {
   "cell_type": "code",
   "execution_count": 8,
   "metadata": {
    "scrolled": false
   },
   "outputs": [
    {
     "data": {
      "image/png": "[encoded data removed]",
      "text/plain": [
       "<Figure size 432x288 with 1 Axes>"
      ]
     },
     "metadata": {
      "needs_background": "light"
     },
     "output_type": "display_data"
    }
   ],
   "source": [
    "fig = counts.sort_values().plot.bar(color=color_by_type)\n",
    "plt.setp(fig.get_xticklabels(), rotation=45,horizontalalignment='right')\n",
    "plt.xlabel(\"Sample\")\n",
    "plt.ylabel(\"Number of proteins\")\n",
    "plt.show()\n",
    "#plt.savefig('data/AutoPOTS_{0}/protein_counts_byMSMS.png'.format(version), dpi=300, bbox_inches='tight')"
   ]
  },
  {
   "cell_type": "markdown",
   "metadata": {},
   "source": [
    "."
   ]
  },
  {
   "cell_type": "markdown",
   "metadata": {},
   "source": [
    "### Present in at least half replicates"
   ]
  },
  {
   "cell_type": "code",
   "execution_count": 9,
   "metadata": {},
   "outputs": [],
   "source": [
    "import data_utils"
   ]
  },
  {
   "cell_type": "markdown",
   "metadata": {},
   "source": [
    "Next, we identify those present in at least half of the replicates. This gives us a dataframe with the proteins by sample type with True marked for those proteins present in a type."
   ]
  },
  {
   "cell_type": "code",
   "execution_count": 10,
   "metadata": {},
   "outputs": [
    {
     "data": {
      "text/html": [
       "<div>\n",
       "<style scoped>\n",
       "    .dataframe tbody tr th:only-of-type {\n",
       "        vertical-align: middle;\n",
       "    }\n",
       "\n",
       "    .dataframe tbody tr th {\n",
       "        vertical-align: top;\n",
       "    }\n",
       "\n",
       "    .dataframe thead th {\n",
       "        text-align: right;\n",
       "    }\n",
       "</style>\n",
       "<table border=\"1\" class=\"dataframe\">\n",
       "  <thead>\n",
       "    <tr style=\"text-align: right;\">\n",
       "      <th></th>\n",
       "      <th>B_cells_062920</th>\n",
       "      <th>T_cells_062920</th>\n",
       "      <th>B_cells_072920</th>\n",
       "      <th>T_cells_072920</th>\n",
       "    </tr>\n",
       "    <tr>\n",
       "      <th>Protein ID</th>\n",
       "      <th></th>\n",
       "      <th></th>\n",
       "      <th></th>\n",
       "      <th></th>\n",
       "    </tr>\n",
       "  </thead>\n",
       "  <tbody>\n",
       "    <tr>\n",
       "      <th>A0A0B4J2D5</th>\n",
       "      <td>True</td>\n",
       "      <td>True</td>\n",
       "      <td>True</td>\n",
       "      <td>True</td>\n",
       "    </tr>\n",
       "    <tr>\n",
       "      <th>A0AVT1</th>\n",
       "      <td>True</td>\n",
       "      <td>True</td>\n",
       "      <td>True</td>\n",
       "      <td>True</td>\n",
       "    </tr>\n",
       "    <tr>\n",
       "      <th>A0FGR8</th>\n",
       "      <td>False</td>\n",
       "      <td>False</td>\n",
       "      <td>False</td>\n",
       "      <td>False</td>\n",
       "    </tr>\n",
       "    <tr>\n",
       "      <th>A6NHR9</th>\n",
       "      <td>True</td>\n",
       "      <td>False</td>\n",
       "      <td>True</td>\n",
       "      <td>False</td>\n",
       "    </tr>\n",
       "    <tr>\n",
       "      <th>A8K2U0</th>\n",
       "      <td>False</td>\n",
       "      <td>False</td>\n",
       "      <td>False</td>\n",
       "      <td>False</td>\n",
       "    </tr>\n",
       "    <tr>\n",
       "      <th>...</th>\n",
       "      <td>...</td>\n",
       "      <td>...</td>\n",
       "      <td>...</td>\n",
       "      <td>...</td>\n",
       "    </tr>\n",
       "    <tr>\n",
       "      <th>O15068</th>\n",
       "      <td>False</td>\n",
       "      <td>False</td>\n",
       "      <td>False</td>\n",
       "      <td>False</td>\n",
       "    </tr>\n",
       "    <tr>\n",
       "      <th>Q14C86</th>\n",
       "      <td>False</td>\n",
       "      <td>False</td>\n",
       "      <td>False</td>\n",
       "      <td>False</td>\n",
       "    </tr>\n",
       "    <tr>\n",
       "      <th>Q8N4T8</th>\n",
       "      <td>False</td>\n",
       "      <td>False</td>\n",
       "      <td>False</td>\n",
       "      <td>False</td>\n",
       "    </tr>\n",
       "    <tr>\n",
       "      <th>Q8IW45</th>\n",
       "      <td>False</td>\n",
       "      <td>False</td>\n",
       "      <td>False</td>\n",
       "      <td>False</td>\n",
       "    </tr>\n",
       "    <tr>\n",
       "      <th>Q96PP8</th>\n",
       "      <td>False</td>\n",
       "      <td>False</td>\n",
       "      <td>False</td>\n",
       "      <td>False</td>\n",
       "    </tr>\n",
       "  </tbody>\n",
       "</table>\n",
       "<p>2426 rows × 4 columns</p>\n",
       "</div>"
      ],
      "text/plain": [
       "            B_cells_062920  T_cells_062920  B_cells_072920  T_cells_072920\n",
       "Protein ID                                                                \n",
       "A0A0B4J2D5            True            True            True            True\n",
       "A0AVT1                True            True            True            True\n",
       "A0FGR8               False           False           False           False\n",
       "A6NHR9                True           False            True           False\n",
       "A8K2U0               False           False           False           False\n",
       "...                    ...             ...             ...             ...\n",
       "O15068               False           False           False           False\n",
       "Q14C86               False           False           False           False\n",
       "Q8N4T8               False           False           False           False\n",
       "Q8IW45               False           False           False           False\n",
       "Q96PP8               False           False           False           False\n",
       "\n",
       "[2426 rows x 4 columns]"
      ]
     },
     "execution_count": 10,
     "metadata": {},
     "output_type": "execute_result"
    }
   ],
   "source": [
    "present_in = data_raw.apply(data_utils.presence_by_type, cell_types=cell_types, \n",
    "                            min_reps=5, null_value=0, axis=1)\n",
    "present_in"
   ]
  },
  {
   "cell_type": "markdown",
   "metadata": {},
   "source": [
    "(The sum of a True/False list is equal to the number of True values as True=1 and False=0) This allows us to summarize and visualize the number in each sample type."
   ]
  },
  {
   "cell_type": "code",
   "execution_count": 11,
   "metadata": {},
   "outputs": [
    {
     "data": {
      "text/plain": [
       "B_cells_062920    1191\n",
       "T_cells_062920    1263\n",
       "B_cells_072920    1564\n",
       "T_cells_072920    1410\n",
       "dtype: int64"
      ]
     },
     "execution_count": 11,
     "metadata": {},
     "output_type": "execute_result"
    }
   ],
   "source": [
    "present_in_counts = present_in.apply(sum)\n",
    "#present_in_counts.to_csv('data/proteins_in_half.tsv'.format(version), sep='\\t')\n",
    "present_in_counts"
   ]
  },
  {
   "cell_type": "code",
   "execution_count": 12,
   "metadata": {},
   "outputs": [
    {
     "data": {
      "text/plain": [
       "<matplotlib.axes._subplots.AxesSubplot at 0x17476e206d0>"
      ]
     },
     "execution_count": 12,
     "metadata": {},
     "output_type": "execute_result"
    },
    {
     "data": {
      "image/png": "[encoded data removed]",
      "text/plain": [
       "<Figure size 432x288 with 1 Axes>"
      ]
     },
     "metadata": {
      "needs_background": "light"
     },
     "output_type": "display_data"
    }
   ],
   "source": [
    "present_in_counts.sort_values().plot.bar()"
   ]
  },
  {
   "cell_type": "markdown",
   "metadata": {},
   "source": [
    "### Venn Diagram Regions\n",
    "Next, we simplify that <code>present_in</code> matrix for a venn diagram. We reformat it for a specialized venn diagram tool called https://www.meta-chart.com/venn#/your-charts. Python readily creates 2-way or 3-way venn diagrams, but for this 5-way comparison other tools are helpful."
   ]
  },
  {
   "cell_type": "code",
   "execution_count": 13,
   "metadata": {},
   "outputs": [],
   "source": [
    "#This function will combine the information for each row. \n",
    "#    This allows us to use value_counts to get each section \n",
    "#    of the venn diagram.\n",
    "def concat(row_series):\n",
    "    str_combined = \"\"\n",
    "    for col in row_series.index:\n",
    "        str_combined = str_combined+\"{0}:{1}    \".format(col, row_series[col])\n",
    "    return str_combined\n",
    "\n",
    "overlaps = present_in.apply(concat, axis=1)\n",
    "venn_numbers = overlaps.value_counts()\n",
    "\n",
    "#Each row of venn_numbers is like this:\n",
    "#\"category\":count\n",
    "#\"HeLa_0cell:False    HeLa_1cell:False    HeLa_10cell:False    HeLa_150cell:True    HeLa_500cell:True\": 1159"
   ]
  },
  {
   "cell_type": "markdown",
   "metadata": {},
   "source": [
    "Now we have the venn numbers and can rearrange them for www.meta-chart.com"
   ]
  },
  {
   "cell_type": "code",
   "execution_count": 14,
   "metadata": {},
   "outputs": [
    {
     "name": "stderr",
     "output_type": "stream",
     "text": [
      "<ipython-input-14-94e7b8747788>:6: DeprecationWarning: The default dtype for empty Series will be 'object' instead of 'float64' in a future version. Specify a dtype explicitly to silence this warning.\n",
      "  venn_numbers_clean[i]=pd.Series(index=list(venn_numbers))\n"
     ]
    }
   ],
   "source": [
    "#Create the new dataframe (empty)\n",
    "columns=cell_types\n",
    "rows = list(venn_numbers)\n",
    "venn_numbers_clean={}\n",
    "for i in columns:\n",
    "    venn_numbers_clean[i]=pd.Series(index=list(venn_numbers))\n",
    "venn_numbers_clean=pd.DataFrame(venn_numbers_clean)"
   ]
  },
  {
   "cell_type": "code",
   "execution_count": 15,
   "metadata": {},
   "outputs": [],
   "source": [
    "# fill in True for the categories that are present\n",
    "for row in venn_numbers.index:\n",
    "    count = venn_numbers[row]\n",
    "    for c in columns:\n",
    "        present_str = \"{0}:True\".format(c)\n",
    "        if (present_str in row):#present in this group\n",
    "            venn_numbers_clean.loc[count,c]=True"
   ]
  },
  {
   "cell_type": "markdown",
   "metadata": {},
   "source": [
    "Finally, save out the new matrix. We also display this cleaned venn diagram matrix here."
   ]
  },
  {
   "cell_type": "code",
   "execution_count": 16,
   "metadata": {},
   "outputs": [
    {
     "data": {
      "text/html": [
       "<div>\n",
       "<style scoped>\n",
       "    .dataframe tbody tr th:only-of-type {\n",
       "        vertical-align: middle;\n",
       "    }\n",
       "\n",
       "    .dataframe tbody tr th {\n",
       "        vertical-align: top;\n",
       "    }\n",
       "\n",
       "    .dataframe thead th {\n",
       "        text-align: right;\n",
       "    }\n",
       "</style>\n",
       "<table border=\"1\" class=\"dataframe\">\n",
       "  <thead>\n",
       "    <tr style=\"text-align: right;\">\n",
       "      <th></th>\n",
       "      <th>B_cells_062920</th>\n",
       "      <th>T_cells_062920</th>\n",
       "      <th>B_cells_072920</th>\n",
       "      <th>T_cells_072920</th>\n",
       "    </tr>\n",
       "  </thead>\n",
       "  <tbody>\n",
       "    <tr>\n",
       "      <th>1056</th>\n",
       "      <td>True</td>\n",
       "      <td>True</td>\n",
       "      <td>True</td>\n",
       "      <td>True</td>\n",
       "    </tr>\n",
       "    <tr>\n",
       "      <th>734</th>\n",
       "      <td>NaN</td>\n",
       "      <td>NaN</td>\n",
       "      <td>NaN</td>\n",
       "      <td>NaN</td>\n",
       "    </tr>\n",
       "    <tr>\n",
       "      <th>165</th>\n",
       "      <td>NaN</td>\n",
       "      <td>NaN</td>\n",
       "      <td>True</td>\n",
       "      <td>NaN</td>\n",
       "    </tr>\n",
       "    <tr>\n",
       "      <th>109</th>\n",
       "      <td>NaN</td>\n",
       "      <td>NaN</td>\n",
       "      <td>True</td>\n",
       "      <td>True</td>\n",
       "    </tr>\n",
       "    <tr>\n",
       "      <th>108</th>\n",
       "      <td>NaN</td>\n",
       "      <td>True</td>\n",
       "      <td>True</td>\n",
       "      <td>True</td>\n",
       "    </tr>\n",
       "    <tr>\n",
       "      <th>71</th>\n",
       "      <td>True</td>\n",
       "      <td>NaN</td>\n",
       "      <td>True</td>\n",
       "      <td>NaN</td>\n",
       "    </tr>\n",
       "    <tr>\n",
       "      <th>57</th>\n",
       "      <td>NaN</td>\n",
       "      <td>True</td>\n",
       "      <td>NaN</td>\n",
       "      <td>True</td>\n",
       "    </tr>\n",
       "    <tr>\n",
       "      <th>47</th>\n",
       "      <td>NaN</td>\n",
       "      <td>NaN</td>\n",
       "      <td>NaN</td>\n",
       "      <td>True</td>\n",
       "    </tr>\n",
       "    <tr>\n",
       "      <th>30</th>\n",
       "      <td>True</td>\n",
       "      <td>NaN</td>\n",
       "      <td>True</td>\n",
       "      <td>True</td>\n",
       "    </tr>\n",
       "    <tr>\n",
       "      <th>17</th>\n",
       "      <td>True</td>\n",
       "      <td>True</td>\n",
       "      <td>True</td>\n",
       "      <td>NaN</td>\n",
       "    </tr>\n",
       "    <tr>\n",
       "      <th>8</th>\n",
       "      <td>NaN</td>\n",
       "      <td>True</td>\n",
       "      <td>True</td>\n",
       "      <td>NaN</td>\n",
       "    </tr>\n",
       "    <tr>\n",
       "      <th>7</th>\n",
       "      <td>True</td>\n",
       "      <td>True</td>\n",
       "      <td>NaN</td>\n",
       "      <td>NaN</td>\n",
       "    </tr>\n",
       "    <tr>\n",
       "      <th>7</th>\n",
       "      <td>True</td>\n",
       "      <td>True</td>\n",
       "      <td>NaN</td>\n",
       "      <td>NaN</td>\n",
       "    </tr>\n",
       "    <tr>\n",
       "      <th>7</th>\n",
       "      <td>True</td>\n",
       "      <td>True</td>\n",
       "      <td>NaN</td>\n",
       "      <td>NaN</td>\n",
       "    </tr>\n",
       "    <tr>\n",
       "      <th>3</th>\n",
       "      <td>True</td>\n",
       "      <td>True</td>\n",
       "      <td>NaN</td>\n",
       "      <td>True</td>\n",
       "    </tr>\n",
       "  </tbody>\n",
       "</table>\n",
       "</div>"
      ],
      "text/plain": [
       "     B_cells_062920 T_cells_062920 B_cells_072920 T_cells_072920\n",
       "1056           True           True           True           True\n",
       "734             NaN            NaN            NaN            NaN\n",
       "165             NaN            NaN           True            NaN\n",
       "109             NaN            NaN           True           True\n",
       "108             NaN           True           True           True\n",
       "71             True            NaN           True            NaN\n",
       "57              NaN           True            NaN           True\n",
       "47              NaN            NaN            NaN           True\n",
       "30             True            NaN           True           True\n",
       "17             True           True           True            NaN\n",
       "8               NaN           True           True            NaN\n",
       "7              True           True            NaN            NaN\n",
       "7              True           True            NaN            NaN\n",
       "7              True           True            NaN            NaN\n",
       "3              True           True            NaN           True"
      ]
     },
     "execution_count": 16,
     "metadata": {},
     "output_type": "execute_result"
    }
   ],
   "source": [
    "venn_numbers_clean.to_csv('data/venn_numbers.csv')\n",
    "venn_numbers_clean"
   ]
  },
  {
   "cell_type": "code",
   "execution_count": null,
   "metadata": {},
   "outputs": [],
   "source": []
  },
  {
   "cell_type": "code",
   "execution_count": null,
   "metadata": {},
   "outputs": [],
   "source": []
  },
  {
   "cell_type": "code",
   "execution_count": null,
   "metadata": {},
   "outputs": [],
   "source": []
  },
  {
   "cell_type": "code",
   "execution_count": 22,
   "metadata": {},
   "outputs": [],
   "source": [
    "import venn\n",
    "from numpy import nan"
   ]
  },
  {
   "cell_type": "code",
   "execution_count": 32,
   "metadata": {},
   "outputs": [
    {
     "name": "stderr",
     "output_type": "stream",
     "text": [
      "<ipython-input-32-17d99c3a5035>:8: UserWarning: Matplotlib is currently using module://ipykernel.pylab.backend_inline, which is a non-GUI backend, so cannot show the figure.\n",
      "  fig.show()\n"
     ]
    },
    {
     "data": {
      "image/png": "[encoded data removed]",
      "text/plain": [
       "<Figure size 648x648 with 1 Axes>"
      ]
     },
     "metadata": {},
     "output_type": "display_data"
    }
   ],
   "source": [
    "set_cols = {}\n",
    "for col in present_in:\n",
    "    set_cols[col] = set(present_in[col].replace(False, nan).dropna().index)\n",
    "\n",
    "\n",
    "labels = venn.get_labels(set_cols.values(), fill=['number'])\n",
    "fig, ax = venn.venn4(labels, names=['B cells June', 'B cells July', 'T cells June', 'T cells June'])\n",
    "fig.show()\n",
    "plt.savefig('data/venn.png', dpi=300, bbox_inches='tight')"
   ]
  },
  {
   "cell_type": "code",
   "execution_count": 42,
   "metadata": {},
   "outputs": [],
   "source": [
    "pd.Series(list(set_cols['B_cells_062920'])).to_csv('data/setsB6.csv')\n",
    "pd.Series(list(set_cols['B_cells_072920'])).to_csv('data/setsB7.csv')\n",
    "pd.Series(list(set_cols['T_cells_062920'])).to_csv('data/setsT6.csv')\n",
    "pd.Series(list(set_cols['T_cells_072920'])).to_csv('data/setsT7.csv')\n",
    "\n",
    "#These columns can be copied to http://www.interactivenn.net/"
   ]
  },
  {
   "cell_type": "code",
   "execution_count": null,
   "metadata": {},
   "outputs": [],
   "source": []
  }
 ],
 "metadata": {
  "kernelspec": {
   "display_name": "Python 3",
   "language": "python",
   "name": "python3"
  },
  "language_info": {
   "codemirror_mode": {
    "name": "ipython",
    "version": 3
   },
   "file_extension": ".py",
   "mimetype": "text/x-python",
   "name": "python",
   "nbconvert_exporter": "python",
   "pygments_lexer": "ipython3",
   "version": "3.8.3"
  }
 },
 "nbformat": 4,
 "nbformat_minor": 4
}
